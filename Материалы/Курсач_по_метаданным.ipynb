{
  "nbformat": 4,
  "nbformat_minor": 0,
  "metadata": {
    "colab": {
      "name": "Курсач по метаданным.ipynb",
      "provenance": [],
      "collapsed_sections": [
        "ivmok8EPr8zI",
        "hE3XwWZRsPkN",
        "9fVyaStkKKs2",
        "KA9fdeITdUpn",
        "A8KcHBsAkmdQ",
        "2v7Onq7z4bb6",
        "ir__SnTQZGJ5",
        "uOToz_206lQY",
        "om7BnHpz6r5Y",
        "SY2Cim_k9s5v",
        "zem49WOOWo62",
        "9pk_srvnY00t",
        "BMpG1LVIY598",
        "8ZdbCpXZY7r4",
        "JwN84Lb-ozxi",
        "lGnlJBGtuoRU",
        "ZFp3Ffeuu196",
        "y-cM7SHHxoTF",
        "6pg0MyrVzF8V",
        "p1SOhcwwzLvs",
        "_dniAvawzOm8",
        "xYYK8ExRzRpi",
        "mOhyq56BzUGI",
        "TT5hMBhKzbsT",
        "1KPThgvtze_M",
        "jXjHlIF5zj99",
        "kp2og5sxzov5",
        "jBY7r4DEzuOE",
        "cYaAtD9yz3NQ",
        "L3D2c3qGz7IG",
        "rwKtHgyLz9ar",
        "mM643--Bz_wI",
        "aqulTI0FdsAU",
        "yOseyGX66m4V",
        "BDYaIrNQ7M3s",
        "odeqsLL96uED",
        "HuNCXoHL7PCE",
        "jUwWUyH_0h4n",
        "EMxPafPdBbKA",
        "6XdeB6mx1Mhv",
        "JvcTiGWv1Nt-",
        "Qe7UMBpw1P8t",
        "T2eBR-kf1Rw9",
        "4gFBZiC71TXZ",
        "oqaGHU_W1VNG",
        "aWQEENsV1XMd",
        "dDJ0mbpM1Y1u",
        "G3l-Xgvm1ac-",
        "LTNs-MCS1cgN",
        "RCZki70f1e6N",
        "rek6aZ3L0PY3",
        "Bb-fPDzj0a1X"
      ]
    },
    "kernelspec": {
      "name": "python3",
      "display_name": "Python 3"
    }
  },
  "cells": [
    {
      "cell_type": "markdown",
      "metadata": {
        "id": "ivmok8EPr8zI"
      },
      "source": [
        "### БИБЛИОТЕКИ ДЛЯ РАЗЛИЧНЫХ ТИПОВ ФАЙЛОВ"
      ]
    },
    {
      "cell_type": "markdown",
      "metadata": {
        "id": "hE3XwWZRsPkN"
      },
      "source": [
        "#### Hachoir3: подходит для фото, аудио, видео, офисных документов(doc, docx и pptx), текстовых файлов, архивов(zip,rar), exe"
      ]
    },
    {
      "cell_type": "markdown",
      "metadata": {
        "id": "QROwG55VKM5a"
      },
      "source": [
        "Данная библиотека имеет два встроенных инструмента:\r\n",
        "*\thachoir-metadata: получение метаданных из двоичных файлов\r\n",
        "*\thachoir-strip: изменение файла для удаления метаданных"
      ]
    },
    {
      "cell_type": "markdown",
      "metadata": {
        "id": "9DmO4lHFKd9s"
      },
      "source": [
        "Было выведено только 3 варианта извлечения метаданных, но без группирования"
      ]
    },
    {
      "cell_type": "markdown",
      "metadata": {
        "id": "p4GYFC51LApw"
      },
      "source": [
        "Вариант 1. Извлечение сплошного текста"
      ]
    },
    {
      "cell_type": "code",
      "metadata": {
        "id": "TDbes_AOriWK"
      },
      "source": [
        "from hachoir.parser import createParser\r\n",
        "from hachoir.metadata import extractMetadata\r\n",
        "\r\n",
        "filename = \"C:/Users/stece/Downloads/original.jpg\"\r\n",
        "parser = createParser(filename)\r\n",
        "metadata = extractMetadata(parser)\r\n",
        "\r\n",
        "for line in metadata.exportPlaintext():\r\n",
        "    print(line)\r\n"
      ],
      "execution_count": null,
      "outputs": []
    },
    {
      "cell_type": "markdown",
      "metadata": {
        "id": "P7Y6FrKALG-h"
      },
      "source": [
        "Вариант 2. Извлечение с использованием функции и проверки на ошибку"
      ]
    },
    {
      "cell_type": "code",
      "metadata": {
        "id": "d13HTkXGxDe9"
      },
      "source": [
        "from hachoir.core.error import error\r\n",
        "from hachoir.parser import createParser\r\n",
        "from hachoir.core.tools import makePrintable\r\n",
        "from hachoir.metadata import extractMetadata\r\n",
        "from hachoir.core.i18n import getTerminalCharset\r\n",
        "\r\n",
        "# Get metadata for video file\r\n",
        "def metadata_for(filename):\r\n",
        "\r\n",
        "    parser = createParser(filename)\r\n",
        "    if not parser:\r\n",
        "        print(\"Unable to parse file\")\r\n",
        "        exit(1)\r\n",
        "    try:\r\n",
        "        metadata = extractMetadata(parser)\r\n",
        "    except error as err:\r\n",
        "        print(\"Metadata extraction error: %s\" % err)\r\n",
        "        metadata = None\r\n",
        "    if not metadata:\r\n",
        "        print(\"Unable to extract metadata\")\r\n",
        "        exit(1)\r\n",
        "\r\n",
        "    text = metadata.exportPlaintext()\r\n",
        "    #charset = getTerminalCharset()\r\n",
        "    #for line in text:\r\n",
        "        #print(makePrintable(line, charset))\r\n",
        "\r\n",
        "    return metadata\r\n",
        "\r\n",
        "pathname = \"C:/Users/stece/Downloads/original.jpg\"\r\n",
        "meta = metadata_for(pathname)\r\n",
        "print(meta)\r\n",
        "#metadata = metaDataFile(videoPath)\r\n",
        "#width = metadata.get('width')\r\n",
        "#height = metadata.get('height')\r\n",
        "#fps = metadata.get('frame_rate')\r\n",
        "width = meta.get('width')\r\n",
        "print(width)\r\n",
        "#meta.set('height', '1300')\r\n",
        "height = meta.get('height')\r\n",
        "print(height)"
      ],
      "execution_count": null,
      "outputs": []
    },
    {
      "cell_type": "markdown",
      "metadata": {
        "id": "jIiwQLozLVLT"
      },
      "source": [
        "Вариант 3. Извлечение отдельно тегов и их значений"
      ]
    },
    {
      "cell_type": "code",
      "metadata": {
        "id": "31B1zgccCUB3"
      },
      "source": [
        "from collections import defaultdict\r\n",
        "from hachoir.metadata import metadata\r\n",
        "from hachoir.parser import createParser\r\n",
        "\r\n",
        "# using this example http://archive.org/details/WorkToFishtestwmv\r\n",
        "filename = 'C:/Users/stece/Downloads/videoplayback.mp4'\r\n",
        "parser = createParser(filename)\r\n",
        "\r\n",
        "# See what keys you can extract\r\n",
        "#for k,v in metadata.extractMetadata(parser)._Metadata__data.iteritems():\r\n",
        "    #if v.values:\r\n",
        "        #print(v.key, v.values[0].value)\r\n",
        "\r\n",
        "# Turn the tags into a defaultdict\r\n",
        "metalist = metadata.extractMetadata(parser).exportPlaintext()\r\n",
        "meta = {}\r\n",
        "for item in metalist:\r\n",
        "    if item.endswith(':'):\r\n",
        "        #k = item[:-1]\r\n",
        "        continue\r\n",
        "    else:\r\n",
        "        tag = item.split(': ')[0]\r\n",
        "        tag = tag[2:]\r\n",
        "        value = item.split(': ')[1]\r\n",
        "        meta[tag] = value\r\n",
        "\r\n",
        "print(meta['Image width']) # 320 pixels"
      ],
      "execution_count": null,
      "outputs": []
    },
    {
      "cell_type": "markdown",
      "metadata": {
        "id": "9fVyaStkKKs2"
      },
      "source": [
        "#### Pymdeco: подходит для фото, аудио, видео, exe"
      ]
    },
    {
      "cell_type": "markdown",
      "metadata": {
        "id": "9JzsQfKrcxj5"
      },
      "source": [
        "Данная библиотека считается устаревшей, не функционирует"
      ]
    },
    {
      "cell_type": "markdown",
      "metadata": {
        "id": "P2UKnIwKc9jL"
      },
      "source": [
        "Был выведен только 1 вариант извлечения метаданных, но без группирования"
      ]
    },
    {
      "cell_type": "markdown",
      "metadata": {
        "id": "fddz4cRMdO7N"
      },
      "source": [
        "Вариант 1. Извлечение метаданных"
      ]
    },
    {
      "cell_type": "code",
      "metadata": {
        "id": "jRhEBCRzcgIT"
      },
      "source": [
        "from pymdeco import services\r\n",
        "srv = services.FileMetadataService()\r\n",
        "\r\n",
        "meta = srv.get_metadata('original.jpg')\r\n",
        "print(meta.to_json(indent=2)) # to pretty print the metadata"
      ],
      "execution_count": null,
      "outputs": []
    },
    {
      "cell_type": "markdown",
      "metadata": {
        "id": "KA9fdeITdUpn"
      },
      "source": [
        "#### Fileinfo: подходит для аудио, pdf, exe"
      ]
    },
    {
      "cell_type": "markdown",
      "metadata": {
        "id": "a2ZeyhDboPi6"
      },
      "source": [
        "Данная библиотека считается устаревшей, не функционирует"
      ]
    },
    {
      "cell_type": "markdown",
      "metadata": {
        "id": "md4errn2kRpF"
      },
      "source": [
        "Была выведена только библиотека"
      ]
    },
    {
      "cell_type": "markdown",
      "metadata": {
        "id": "ugPChVVnkXVY"
      },
      "source": [
        "Вариант 1. Библиотека"
      ]
    },
    {
      "cell_type": "code",
      "metadata": {
        "id": "cyydUYygkaD-"
      },
      "source": [
        "from fileinfo import FileInfo"
      ],
      "execution_count": null,
      "outputs": []
    },
    {
      "cell_type": "markdown",
      "metadata": {
        "id": "A8KcHBsAkmdQ"
      },
      "source": [
        "#### Tinytag: подходит для аудио, видео"
      ]
    },
    {
      "cell_type": "markdown",
      "metadata": {
        "id": "YFpKwhgo29Qd"
      },
      "source": [
        "Данная библиотека имеет встроенный инструмент:\r\n",
        "*\tTinyTag: чтения музыкальных метаданных"
      ]
    },
    {
      "cell_type": "markdown",
      "metadata": {
        "id": "csaQs5EU3d1t"
      },
      "source": [
        "Было выведено только 4 варианта извлечения метаданных, но без группирования"
      ]
    },
    {
      "cell_type": "markdown",
      "metadata": {
        "id": "1-opmdsX3ff0"
      },
      "source": [
        "Вариант 1. Извлечение метаданных"
      ]
    },
    {
      "cell_type": "code",
      "metadata": {
        "id": "IF1bWmJZ3kzA"
      },
      "source": [
        "from tinytag import TinyTag\r\n",
        "\r\n",
        "filename3 = \"C:/Users/stece/Downloads/XXXTENTACION - BAD.mp3\"\r\n",
        "filename4 = \"C:/Users/stece/Downloads/videoplayback.mp4\"\r\n",
        "tag = TinyTag.get(filename3, image=True)\r\n",
        "print(tag)"
      ],
      "execution_count": null,
      "outputs": []
    },
    {
      "cell_type": "markdown",
      "metadata": {
        "id": "IryXom1v5blb"
      },
      "source": [
        "Вариант 2. Извлечение метаданных с добавлением пустых тегов"
      ]
    },
    {
      "cell_type": "code",
      "metadata": {
        "id": "f-WHo9pE5cJ4"
      },
      "source": [
        "from tinytag import TinyTag\r\n",
        "\r\n",
        "filename3 = \"C:/Users/stece/Downloads/XXXTENTACION - BAD.mp3\"\r\n",
        "filename4 = \"C:/Users/stece/Downloads/videoplayback.mp4\"\r\n",
        "tag = TinyTag.get(filename3)\r\n",
        "# make sure everthing returned (except length) is a string\r\n",
        "for attribute in ['artist','album','title','track']:\r\n",
        "  if getattr(tag, attribute) is None:\r\n",
        "    setattr(tag, attribute, '')"
      ],
      "execution_count": null,
      "outputs": []
    },
    {
      "cell_type": "markdown",
      "metadata": {
        "id": "_EEXJ1pE3oVU"
      },
      "source": [
        "Вариант 3. Извлечение метаданных MP3"
      ]
    },
    {
      "cell_type": "code",
      "metadata": {
        "id": "NdgPOl683ySV"
      },
      "source": [
        "# Python3 program to illustrate \r\n",
        "# accessing of audio metadata \r\n",
        "# using tinytag library \r\n",
        "\r\n",
        "# Import Tinytag method from \r\n",
        "# tinytag library \r\n",
        "from tinytag import TinyTag\r\n",
        "\r\n",
        "# Pass the filename into the \r\n",
        "# Tinytag.get() method and store \r\n",
        "# the result in audio variable \r\n",
        "audio = TinyTag.get(\"C:/Users/stece/Downloads/XXXTENTACION - BAD.mp3\")\r\n",
        "\r\n",
        "# Use the attributes \r\n",
        "# and Display \r\n",
        "print(\"Title:\" + audio.title)\r\n",
        "print(\"Artist: \" + audio.artist)\r\n",
        "print(\"Genre:\" + audio.genre)\r\n",
        "print(\"Year Released: \" + audio.year)\r\n",
        "print(\"Bitrate:\" + str(audio.bitrate) + \" kBits/s\")\r\n",
        "print(\"Composer: \" + audio.composer)\r\n",
        "print(\"Filesize: \" + str(audio.filesize) + \" bytes\")\r\n",
        "print(\"AlbumArtist: \" + audio.albumartist)\r\n",
        "print(\"Duration: \" + str(audio.duration) + \" seconds\")\r\n",
        "print(\"TrackTotal: \" + str(audio.track_total)) "
      ],
      "execution_count": null,
      "outputs": []
    },
    {
      "cell_type": "markdown",
      "metadata": {
        "id": "7GxOlB_f4Dh8"
      },
      "source": [
        "Вариант 4. Извлечение метаданных MP4"
      ]
    },
    {
      "cell_type": "code",
      "metadata": {
        "id": "3nqH5MWH4GfM"
      },
      "source": [
        "# Python3 program to illustrate \r\n",
        "# accessing of video metadata\r\n",
        "# using tinytag library\r\n",
        "\r\n",
        "# Import Tinytag method from\r\n",
        "# tinytag library\r\n",
        "from tinytag import TinyTag\r\n",
        "\r\n",
        "# Pass the filename into the\r\n",
        "# Tinytag.get() method and store\r\n",
        "# the result in audio variable\r\n",
        "video = TinyTag.get(\"C:/Users/stece/Downloads/videoplayback.mp4\")\r\n",
        "\r\n",
        "# Use the attributes\r\n",
        "# and display\r\n",
        "print(\"Title:\" + video.title)\r\n",
        "print(\"Artist: \" + video.artist)\r\n",
        "print(\"Genre:\" + video.genre)\r\n",
        "print(\"Year Released: \" + video.year)\r\n",
        "print(\"Bitrate:\" + str(video.bitrate) + \" kBits/s\")\r\n",
        "print(\"Composer: \" + video.composer)\r\n",
        "print(\"Filesize: \" + str(video.filesize) + \" bytes\")\r\n",
        "print(\"AlbumArtist: \" + str(video.albumartist))\r\n",
        "print(\"Duration: \" + str(video.duration) + \" seconds\")\r\n",
        "print(\"TrackTotal: \" + str(video.track_total))"
      ],
      "execution_count": null,
      "outputs": []
    },
    {
      "cell_type": "markdown",
      "metadata": {
        "id": "2v7Onq7z4bb6"
      },
      "source": [
        "#### Mutagen: подходит для аудио, видео"
      ]
    },
    {
      "cell_type": "markdown",
      "metadata": {
        "id": "JlfJB_vyVSbq"
      },
      "source": [
        "Данная библиотека имеет 4 встроенных инструмента:\r\n",
        "*\tmutagen: обработкиа звуковых метаданных\r\n",
        "* MP3: обработка метаданных в MP3-файлах\r\n",
        "* MP4: обработка метаданных в MP4-файлах\r\n",
        "* ID3: обработка ID3-метаданных\r\n"
      ]
    },
    {
      "cell_type": "markdown",
      "metadata": {
        "id": "HGM-3i6QV-SL"
      },
      "source": [
        "Было выведено 3 варианта извлечения, 2 варианта изменения и 2 варианта удаления метаданных, но без группирования"
      ]
    },
    {
      "cell_type": "markdown",
      "metadata": {
        "id": "cChSJSPUV-mq"
      },
      "source": [
        "Вариант 1. Извлечение метаданных обширным способом"
      ]
    },
    {
      "cell_type": "code",
      "metadata": {
        "id": "sWAxy32ZVRd0"
      },
      "source": [
        "from __future__ import print_function\r\n",
        "\r\n",
        "import argparse\r\n",
        "import json\r\n",
        "import mutagen\r\n",
        "\r\n",
        "def handle_id3(id3_file):\r\n",
        "   id3_frames = {'TIT2': 'Title', 'TPE1': 'Artist', 'TALB': 'Album','TXXX':\r\n",
        "      'Custom', 'TCON': 'Content Type', 'TDRL': 'Date released','COMM': 'Comments',\r\n",
        "         'TDRC': 'Recording Date'}\r\n",
        "   print(\"{:15} | {:15} | {:38} | {}\".format(\"Frame\", \"Description\",\"Text\",\"Value\"))\r\n",
        "   print(\"-\" * 85)\r\n",
        "   \r\n",
        "   for frames in id3_file.tags.values():\r\n",
        "      frame_name = id3_frames.get(frames.FrameID, frames.FrameID)\r\n",
        "      desc = getattr(frames, 'desc', \"N/A\")\r\n",
        "      text = getattr(frames, 'text', [\"N/A\"])[0]\r\n",
        "      value = getattr(frames, 'value', \"N/A\")\r\n",
        "      \r\n",
        "      if \"date\" in frame_name.lower():\r\n",
        "         text = str(text)\r\n",
        "      print(\"{:15} | {:15} | {:38} | {}\".format(\r\n",
        "         frame_name, desc, text, value))\r\n",
        "\r\n",
        "def handle_mp4(mp4_file):\r\n",
        "    cp_sym = u\"\\u00A9\"\r\n",
        "    qt_tag = {\r\n",
        "      cp_sym + 'nam': 'Title', cp_sym + 'art': 'Artist',\r\n",
        "      cp_sym + 'alb': 'Album', cp_sym + 'gen': 'Genre',\r\n",
        "      'cpil': 'Compilation', cp_sym + 'day': 'Creation Date',\r\n",
        "      'cnID': 'Apple Store Content ID', 'atID': 'Album Title ID',\r\n",
        "      'plID': 'Playlist ID', 'geID': 'Genre ID', 'pcst': 'Podcast',\r\n",
        "      'purl': 'Podcast URL', 'egid': 'Episode Global ID',\r\n",
        "      'cmID': 'Camera ID', 'sfID': 'Apple Store Country',\r\n",
        "      'desc': 'Description', 'ldes': 'Long Description'}\r\n",
        "\r\n",
        "\r\n",
        "    print(\"{:22} | {}\".format('Name', 'Value'))\r\n",
        "    print(\"-\" * 40)\r\n",
        "\r\n",
        "    for name, value in mp4_file.items():\r\n",
        "        tag_name = qt_tag.get(name, name)\r\n",
        "        \r\n",
        "        if isinstance(value, list):\r\n",
        "            value = \"; \".join([str(x) for x in value])\r\n",
        "        print(\"{:22} | {}\".format(tag_name, value))\r\n",
        "\r\n",
        "\r\n",
        "if __name__ == '__main__':\r\n",
        "   av_file = mutagen.File(\"C:\\\\Users\\\\stece\\\\Downloads\\\\videoplayback.mp4\")\r\n",
        "   strok = \"C:\\\\Users\\\\stece\\\\Downloads\\\\videoplayback.mp4\"\r\n",
        "   file_ext = strok.rsplit('.', 1)[-1]\r\n",
        "   \r\n",
        "   if file_ext.lower() == 'mp3':\r\n",
        "      handle_id3(av_file)\r\n",
        "   elif file_ext.lower() == 'mp4':\r\n",
        "      handle_mp4(av_file)"
      ],
      "execution_count": null,
      "outputs": []
    },
    {
      "cell_type": "markdown",
      "metadata": {
        "id": "d5Sjfx-fWNJK"
      },
      "source": [
        "Вариант 2. Извлечение метаданных стандартным способом"
      ]
    },
    {
      "cell_type": "code",
      "metadata": {
        "id": "o1rfT3_kWSHM"
      },
      "source": [
        "import mutagen\r\n",
        "\r\n",
        "filename3 = \"C:/Users/stece/Downloads/XXXtentacion - BAD (1).mp3\"\r\n",
        "filename4 = \"C:/Users/stece/Downloads/videoplayback.mp4\"\r\n",
        "audio = mutagen.File(filename3)\r\n",
        "#audio['TIT2'].text[0] = \"eere\"\r\n",
        "#audio.save()\r\n",
        "print(audio.keys())"
      ],
      "execution_count": null,
      "outputs": []
    },
    {
      "cell_type": "markdown",
      "metadata": {
        "id": "uUPRHTunWlBC"
      },
      "source": [
        "Вариант 3. Извлечение метаданных с помощью MP3, MP4, ID3"
      ]
    },
    {
      "cell_type": "code",
      "metadata": {
        "id": "vDrg4UQ7WTWM"
      },
      "source": [
        "from mutagen.mp3 import MP3\r\n",
        "from mutagen.mp4 import MP4\r\n",
        "from mutagen.id3 import ID3\r\n",
        "\r\n",
        "filename3 = \"C:/Users/stece/Downloads/XXXtentacion - BAD (1).mp3\"\r\n",
        "filename4 = \"C:/Users/stece/Downloads/videoplayback.mp4\"\r\n",
        "audio = MP3(filename3)\r\n",
        "#audio['TIT2'].text[0] = \"eere\"\r\n",
        "#audio.save()\r\n",
        "print(audio.keys())"
      ],
      "execution_count": null,
      "outputs": []
    },
    {
      "cell_type": "markdown",
      "metadata": {
        "id": "K1t8GkEdWu6y"
      },
      "source": [
        "Вариант 4. Изменение метаданных путем прямого обращения"
      ]
    },
    {
      "cell_type": "code",
      "metadata": {
        "id": "RGpEmZuWXge5"
      },
      "source": [
        "import mutagen\r\n",
        "\r\n",
        "filename3 = \"C:/Users/stece/Downloads/XXXtentacion - BAD (1).mp3\"\r\n",
        "filename4 = \"C:/Users/stece/Downloads/videoplayback.mp4\"\r\n",
        "audio = mutagen.File(filename3)\r\n",
        "audio['TIT2'].text[0] = \"ytytyytyy\"\r\n",
        "audio.save()\r\n",
        "print(audio)"
      ],
      "execution_count": null,
      "outputs": []
    },
    {
      "cell_type": "markdown",
      "metadata": {
        "id": "WEGFbsVNXheh"
      },
      "source": [
        "Вариант 5. Изменение метаданных путем прямого обращения с помощью MP3, MP4, ID3"
      ]
    },
    {
      "cell_type": "code",
      "metadata": {
        "id": "ybr5mcjlW0Cp"
      },
      "source": [
        "from mutagen.mp3 import MP3\r\n",
        "from mutagen.mp4 import MP4\r\n",
        "from mutagen.id3 import ID3\r\n",
        "\r\n",
        "filename3 = \"C:/Users/stece/Downloads/XXXtentacion - BAD (1).mp3\"\r\n",
        "filename4 = \"C:/Users/stece/Downloads/videoplayback.mp4\"\r\n",
        "audio = MP3(filename3)\r\n",
        "audio['TIT2'].text[0] = \"eere\"\r\n",
        "audio.save()\r\n",
        "print(audio)"
      ],
      "execution_count": null,
      "outputs": []
    },
    {
      "cell_type": "markdown",
      "metadata": {
        "id": "faQJERkAYtdB"
      },
      "source": [
        "Вариант 6. Удаление метаданных"
      ]
    },
    {
      "cell_type": "code",
      "metadata": {
        "id": "pkphcNl8Yt1I"
      },
      "source": [
        "import mutagen\r\n",
        "\r\n",
        "filename3 = \"C:/Users/stece/Downloads/XXXtentacion - BAD (1).mp3\"\r\n",
        "filename4 = \"C:/Users/stece/Downloads/videoplayback.mp4\"\r\n",
        "audio = mutagen.File(filename3)\r\n",
        "audio.delete()\r\n",
        "audio.save()\r\n",
        "print(audio)\r\n"
      ],
      "execution_count": null,
      "outputs": []
    },
    {
      "cell_type": "markdown",
      "metadata": {
        "id": "Y_6Q_Q38YuJD"
      },
      "source": [
        "Вариант 7. Удаление метаданных с помощью MP3, MP4, ID3"
      ]
    },
    {
      "cell_type": "code",
      "metadata": {
        "id": "HewPI7xbYugx"
      },
      "source": [
        "from mutagen.mp3 import MP3\r\n",
        "from mutagen.mp4 import MP4\r\n",
        "from mutagen.id3 import ID3\r\n",
        "\r\n",
        "filename3 = \"C:/Users/stece/Downloads/XXXtentacion - BAD (1).mp3\"\r\n",
        "filename4 = \"C:/Users/stece/Downloads/videoplayback.mp4\"\r\n",
        "audio = MP3(filename3)\r\n",
        "audio.delete()\r\n",
        "audio.save()\r\n",
        "print(audio)"
      ],
      "execution_count": null,
      "outputs": []
    },
    {
      "cell_type": "markdown",
      "metadata": {
        "id": "ir__SnTQZGJ5"
      },
      "source": [
        "### БИБЛИОТЕКИ ДЛЯ ОДНОРОДНЫХ ТИПОВ ФАЙЛОВ"
      ]
    },
    {
      "cell_type": "markdown",
      "metadata": {
        "id": "uOToz_206lQY"
      },
      "source": [
        "#### 1. Изображение"
      ]
    },
    {
      "cell_type": "markdown",
      "metadata": {
        "id": "om7BnHpz6r5Y"
      },
      "source": [
        "##### Exifread: подходит для Exif и близких к нему форматов"
      ]
    },
    {
      "cell_type": "markdown",
      "metadata": {
        "id": "GRDb7azy8XNk"
      },
      "source": [
        "Данная библиотека имеет встроенный инструмент:\r\n",
        "\r\n",
        "*\texifread: извлечение метаданных Exif из файлов цифровых изображений"
      ]
    },
    {
      "cell_type": "markdown",
      "metadata": {
        "id": "jdf8Hqkm9J4P"
      },
      "source": [
        "Был выведен только 1 вариант извлечения метаданных, но с группированием"
      ]
    },
    {
      "cell_type": "markdown",
      "metadata": {
        "id": "0hZOwI1z9PL_"
      },
      "source": [
        "Вариант 1. Извлечение группированных метаданных"
      ]
    },
    {
      "cell_type": "code",
      "metadata": {
        "id": "Ov2yaVyd8K2B"
      },
      "source": [
        "import exifread\r\n",
        "\r\n",
        "with open(\"C:/Users/stece/Downloads/original.jpg\",\"rb\") as f:\r\n",
        "    tags = exifread.process_file(f)\r\n",
        "    print(tags[\"Image ImageWidth\"])\r\n",
        "    for k,v in tags.items():\r\n",
        "        print(k + \":\", v)"
      ],
      "execution_count": null,
      "outputs": []
    },
    {
      "cell_type": "markdown",
      "metadata": {
        "id": "SY2Cim_k9s5v"
      },
      "source": [
        "##### Exif: подходит для Exif и близких к нему форматов"
      ]
    },
    {
      "cell_type": "markdown",
      "metadata": {
        "id": "sixzQ2XSOeXA"
      },
      "source": [
        "Данная библиотека имеет несколько встроенных инструментов:\r\n",
        "\r\n",
        "*\tImage: извлечение изображения\r\n",
        "* get: извлечение метаданных Exif\r\n",
        "* set: изменение метаданных Exif\r\n",
        "* delete: удаление метаданных Exif\r\n",
        "* delete_all: удаление всех метаданных Exif"
      ]
    },
    {
      "cell_type": "markdown",
      "metadata": {
        "id": "Sgx7e0ycPDEH"
      },
      "source": [
        "Было выведено 3 варианта извлечения, 3 варианта изменения и 2 варианта удаления метаданных, но без группирования"
      ]
    },
    {
      "cell_type": "markdown",
      "metadata": {
        "id": "QX9yxDfZPWMf"
      },
      "source": [
        "Вариант 1. Извлечение метаданных стандартным способом"
      ]
    },
    {
      "cell_type": "code",
      "metadata": {
        "id": "41RoD-g9OAal"
      },
      "source": [
        "from exif import Image\r\n",
        "with open(\"C:/Users/stece/Downloads/o.jpg\", 'rb') as f:\r\n",
        "    img2 = Image(f)\r\n",
        "    print(img2.has_exif)\r\n",
        "    print(img2.model)"
      ],
      "execution_count": null,
      "outputs": []
    },
    {
      "cell_type": "markdown",
      "metadata": {
        "id": "6b3CoC1RPn1G"
      },
      "source": [
        "Вариант 2. Извлечение метаданных через запись аттрибута"
      ]
    },
    {
      "cell_type": "code",
      "metadata": {
        "id": "bw_cjC1qPbxb"
      },
      "source": [
        "from exif import Image\r\n",
        "with open(\"C:/Users/stece/Downloads/o.jpg\", 'rb') as f:\r\n",
        "    img2 = Image(f)\r\n",
        "    print(img2['model'])"
      ],
      "execution_count": null,
      "outputs": []
    },
    {
      "cell_type": "markdown",
      "metadata": {
        "id": "HCk3zvyUPu-T"
      },
      "source": [
        "Вариант 3. Извлечение метаданных через функцию получения значения"
      ]
    },
    {
      "cell_type": "code",
      "metadata": {
        "id": "SYUuRoePP04w"
      },
      "source": [
        "from exif import Image\r\n",
        "with open(\"C:/Users/stece/Downloads/o.jpg\", 'rb') as f:\r\n",
        "    img2 = Image(f)\r\n",
        "    print(img2.get('model'))"
      ],
      "execution_count": null,
      "outputs": []
    },
    {
      "cell_type": "markdown",
      "metadata": {
        "id": "kMx1ewcuP6V0"
      },
      "source": [
        "Вариант 4. Изменение метаданных стандартным способом"
      ]
    },
    {
      "cell_type": "code",
      "metadata": {
        "id": "r5lUEaqhOA3V"
      },
      "source": [
        "from exif import Image\r\n",
        "with open(\"C:/Users/stece/Downloads/original.jpg\",\"rb\") as f:\r\n",
        "    im_b = f.read()\r\n",
        "img2 = Image(im_b)\r\n",
        "print(img2.has_exif)\r\n",
        "print(dir(img2))\r\n",
        "print(img2.model)\r\n",
        "#img2.get('model')\r\n",
        "#img2.set('model', 'other')\r\n",
        "#img2.delete('model')\r\n",
        "#img2.delete_all()\r\n",
        "img2.model = \"other\"\r\n",
        "print(img2.model)\r\n",
        "with open(\"C:/Users/stece/Downloads/o.jpg\", 'wb') as new_image_file:\r\n",
        "    new_image_file.write(img2.get_file())\r\n",
        "#with open('C:/Users/stece/Downloads/or.jpg', 'wb') as new_image_file:\r\n",
        "        #new_image_file.write(img2.get_file())"
      ],
      "execution_count": null,
      "outputs": []
    },
    {
      "cell_type": "markdown",
      "metadata": {
        "id": "P6w_jVmqQOrq"
      },
      "source": [
        "Вариант 5. Изменение метаданных через запись аттрибута"
      ]
    },
    {
      "cell_type": "code",
      "metadata": {
        "id": "xJc4di3hOBQe"
      },
      "source": [
        "from exif import Image\r\n",
        "with open(\"C:/Users/stece/Downloads/original.jpg\",\"rb\") as f:\r\n",
        "    im_b = f.read()\r\n",
        "img2 = Image(im_b)\r\n",
        "print(img2.has_exif)\r\n",
        "print(dir(img2))\r\n",
        "print(img2.model)\r\n",
        "#img2.get('model')\r\n",
        "#img2.set('model', 'other')\r\n",
        "#img2.delete('model')\r\n",
        "#img2.delete_all()\r\n",
        "img2['model'] = \"other\"\r\n",
        "print(img2.model)\r\n",
        "with open(\"C:/Users/stece/Downloads/o.jpg\", 'wb') as new_image_file:\r\n",
        "    new_image_file.write(img2.get_file())\r\n",
        "#with open('C:/Users/stece/Downloads/or.jpg', 'wb') as new_image_file:\r\n",
        "        #new_image_file.write(img2.get_file())"
      ],
      "execution_count": null,
      "outputs": []
    },
    {
      "cell_type": "markdown",
      "metadata": {
        "id": "OiLXaM02QaHn"
      },
      "source": [
        "Вариант 6. Изменение метаданных через функцию вставки значения"
      ]
    },
    {
      "cell_type": "code",
      "metadata": {
        "id": "iKekYioXQgfd"
      },
      "source": [
        "from exif import Image\r\n",
        "with open(\"C:/Users/stece/Downloads/original.jpg\",\"rb\") as f:\r\n",
        "    im_b = f.read()\r\n",
        "img2 = Image(im_b)\r\n",
        "print(img2.has_exif)\r\n",
        "print(dir(img2))\r\n",
        "print(img2.model)\r\n",
        "#img2.get('model')\r\n",
        "#img2.set('model', 'other')\r\n",
        "#img2.delete('model')\r\n",
        "#img2.delete_all()\r\n",
        "img2.set('model', \"other\")\r\n",
        "print(img2.model)\r\n",
        "with open(\"C:/Users/stece/Downloads/o.jpg\", 'wb') as new_image_file:\r\n",
        "    new_image_file.write(img2.get_file())\r\n",
        "#with open('C:/Users/stece/Downloads/or.jpg', 'wb') as new_image_file:\r\n",
        "        #new_image_file.write(img2.get_file())"
      ],
      "execution_count": null,
      "outputs": []
    },
    {
      "cell_type": "markdown",
      "metadata": {
        "id": "ZVEMDL5OQqOj"
      },
      "source": [
        "Вариант 7. Удаление метаданных через функцию удаления аттрибута"
      ]
    },
    {
      "cell_type": "code",
      "metadata": {
        "id": "Lk9Ra9mVROpT"
      },
      "source": [
        "from exif import Image\r\n",
        "with open(\"C:/Users/stece/Downloads/original.jpg\",\"rb\") as f:\r\n",
        "    im_b = f.read()\r\n",
        "img2 = Image(im_b)\r\n",
        "print(img2.has_exif)\r\n",
        "print(dir(img2))\r\n",
        "print(img2.model)\r\n",
        "#img2.get('model')\r\n",
        "#img2.set('model', 'other')\r\n",
        "#img2.delete('model')\r\n",
        "#img2.delete_all()\r\n",
        "img2.delete('artist')\r\n",
        "with open(\"C:/Users/stece/Downloads/o.jpg\", 'wb') as new_image_file:\r\n",
        "    new_image_file.write(img2.get_file())\r\n",
        "#with open('C:/Users/stece/Downloads/or.jpg', 'wb') as new_image_file:\r\n",
        "        #new_image_file.write(img2.get_file())"
      ],
      "execution_count": null,
      "outputs": []
    },
    {
      "cell_type": "markdown",
      "metadata": {
        "id": "vmg98J-sRSvN"
      },
      "source": [
        "Вариант 8. Удаление метаданных через функцию удаления всех аттрибутов"
      ]
    },
    {
      "cell_type": "code",
      "metadata": {
        "id": "GWY_coMDRXtr"
      },
      "source": [
        "from exif import Image\r\n",
        "with open(\"C:/Users/stece/Downloads/original.jpg\",\"rb\") as f:\r\n",
        "    im_b = f.read()\r\n",
        "img2 = Image(im_b)\r\n",
        "print(img2.has_exif)\r\n",
        "print(dir(img2))\r\n",
        "print(img2.model)\r\n",
        "#img2.get('model')\r\n",
        "#img2.set('model', 'other')\r\n",
        "#img2.delete('model')\r\n",
        "#img2.delete_all()\r\n",
        "img2.delete_all()\r\n",
        "with open(\"C:/Users/stece/Downloads/o.jpg\", 'wb') as new_image_file:\r\n",
        "    new_image_file.write(img2.get_file())\r\n",
        "#with open('C:/Users/stece/Downloads/or.jpg', 'wb') as new_image_file:\r\n",
        "        #new_image_file.write(img2.get_file())"
      ],
      "execution_count": null,
      "outputs": []
    },
    {
      "cell_type": "markdown",
      "metadata": {
        "id": "zem49WOOWo62"
      },
      "source": [
        "##### PIL: подходит для Exif и близких к нему форматов"
      ]
    },
    {
      "cell_type": "markdown",
      "metadata": {
        "id": "K4C9pnWPWwyl"
      },
      "source": [
        "Данная библиотека имеет два встроенных инструмента:\r\n",
        "\r\n",
        "* Image: извлечение изображения\r\n",
        "* getexif: извлечение метаданных Exif\r\n",
        "* TAGS: получение тегов метаданных Exif"
      ]
    },
    {
      "cell_type": "markdown",
      "metadata": {
        "id": "USirr7BLYFti"
      },
      "source": [
        "Был выведен только 1 вариант извлечения метаданных, но без группирования"
      ]
    },
    {
      "cell_type": "markdown",
      "metadata": {
        "id": "v37WiCW7YK0I"
      },
      "source": [
        "Вариант 1. Извлечение метаданных"
      ]
    },
    {
      "cell_type": "code",
      "metadata": {
        "id": "eQ3ZgDoeYQbS"
      },
      "source": [
        "from PIL import Image\r\n",
        "from PIL.ExifTags import TAGS\r\n",
        "\r\n",
        "# path to the image or video\r\n",
        "imagename = \"C:/Users/stece/Downloads/original.jpg\"\r\n",
        "# read the image data using PIL\r\n",
        "image = Image.open(imagename)\r\n",
        "\r\n",
        "# extract EXIF data\r\n",
        "exifdata = image.getexif()\r\n",
        "\r\n",
        "# iterating over all EXIF data fields\r\n",
        "for tag_id in exifdata:\r\n",
        "    # get the tag name, instead of human unreadable tag id\r\n",
        "    tag = TAGS.get(tag_id, tag_id)\r\n",
        "    data = exifdata.get(tag_id)\r\n",
        "    # decode bytes\r\n",
        "    if isinstance(data, bytes):\r\n",
        "        data = data.decode()\r\n",
        "    print(f\"{tag:25}: {data}\")"
      ],
      "execution_count": null,
      "outputs": []
    },
    {
      "cell_type": "markdown",
      "metadata": {
        "id": "9pk_srvnY00t"
      },
      "source": [
        "##### Pyexif: подходит для Exif и близких к нему форматов"
      ]
    },
    {
      "cell_type": "markdown",
      "metadata": {
        "id": "wYtgzyI3ZFLU"
      },
      "source": [
        "Данная библиотека имеет несколько встроенных инструмента:\r\n",
        "\r\n",
        "* load (filename) - получить данные Exif как dict\r\n",
        "* dump (exif_dict) - получить Exif в байтах\r\n",
        "* insert (exif_bytes, filename) - вставить Exif в JPEG или WebP\r\n",
        "* remove (имя файла) - удаление Exif из JPEG или WebP\r\n",
        "* transplant (filename, filename) - трансплантация Exif из JPEG в JPEG"
      ]
    },
    {
      "cell_type": "markdown",
      "metadata": {
        "id": "R-cLRZBIdo0z"
      },
      "source": [
        "Было выведено 1 вариант извлечения, 2 варианта изменения и 1 вариант удаления метаданных, но с группированием"
      ]
    },
    {
      "cell_type": "markdown",
      "metadata": {
        "id": "Jj3Hau7Vd0si"
      },
      "source": [
        "Вариант 1. Извлечение метаданных стандартным способом"
      ]
    },
    {
      "cell_type": "code",
      "metadata": {
        "id": "lVWXseP9d5BI"
      },
      "source": [
        "import piexif\r\n",
        "\r\n",
        "exif_dict = piexif.load(\"C:/Users/stece/Downloads/original.jpg\")\r\n",
        "for ifd in (\"0th\", \"Exif\", \"GPS\", \"1st\"):\r\n",
        " for tag in exif_dict[ifd]:\r\n",
        "     print(ifd, piexif.TAGS[ifd][tag][\"name\"], exif_dict[ifd][tag])"
      ],
      "execution_count": null,
      "outputs": []
    },
    {
      "cell_type": "markdown",
      "metadata": {
        "id": "NbqWIdPed7Cx"
      },
      "source": [
        "Вариант 2. Изменение метаданных с помощью библиотеки PIL"
      ]
    },
    {
      "cell_type": "code",
      "metadata": {
        "id": "8shXaRq3eEH6"
      },
      "source": [
        "from PIL import Image\r\n",
        "import piexif\r\n",
        "filename = \"C:/Users/stece/Downloads/original.jpg\"\r\n",
        "im = Image.open(filename)\r\n",
        "exif_dict = piexif.load(im.info[\"exif\"])\r\n",
        "# process im and exif_dict...\r\n",
        "w, h = im.size\r\n",
        "exif_dict[\"0th\"][piexif.ImageIFD.XResolution] = (w, 1)\r\n",
        "exif_dict[\"0th\"][piexif.ImageIFD.YResolution] = (h, 1)\r\n",
        "exif_bytes = piexif.dump(exif_dict)\r\n",
        "#im.save(new_file, \"jpeg\", exif=exif_bytes)"
      ],
      "execution_count": null,
      "outputs": []
    },
    {
      "cell_type": "markdown",
      "metadata": {
        "id": "gNkBoEnTeKow"
      },
      "source": [
        "Вариант 3. Изменение метаданных с помощью библиотеки PIL с проверкой"
      ]
    },
    {
      "cell_type": "code",
      "metadata": {
        "id": "xSldahuJeO5U"
      },
      "source": [
        "import piexif\r\n",
        "from PIL import Image\r\n",
        "from collections import defaultdict\r\n",
        "\r\n",
        "img = Image.open('C:\\\\Users\\\\stece\\\\Downloads\\\\original.jpg')\r\n",
        "\r\n",
        "try:\r\n",
        "    exif_dict = piexif.load(img.info[\"exif\"])\r\n",
        "except KeyError:\r\n",
        "    exif_dict = defaultdict(dict)\r\n",
        "    exif_img = defaultdict(dict)\r\n",
        "exif_dict['Exif'][piexif.ExifIFD.Flash] = 37\r\n",
        "\r\n",
        "exif_bytes = piexif.dump(exif_dict)\r\n",
        "img.save('C:\\\\Users\\\\stece\\\\Downloads\\\\out.jpg', \"jpeg\", exif=exif_bytes)"
      ],
      "execution_count": null,
      "outputs": []
    },
    {
      "cell_type": "markdown",
      "metadata": {
        "id": "-_6VynZ4eV14"
      },
      "source": [
        "Вариант 4. Удаление метаданных с помощью функции полного удаления Exif-данных"
      ]
    },
    {
      "cell_type": "code",
      "metadata": {
        "id": "rhEmg6X2ecyW"
      },
      "source": [
        "import piexif\r\n",
        "\r\n",
        "filename = \"C:/Users/stece/Downloads/original.jpg\"\r\n",
        "piexif.remove(filename)"
      ],
      "execution_count": null,
      "outputs": []
    },
    {
      "cell_type": "markdown",
      "metadata": {
        "id": "BMpG1LVIY598"
      },
      "source": [
        "##### Pyexiv2: подходит для Exif, IPTC, XMP"
      ]
    },
    {
      "cell_type": "markdown",
      "metadata": {
        "id": "Ii37Mlvvh0SK"
      },
      "source": [
        "Данная библиотека считается самой свежой и к тому же 2020 года, но выдает ошибки при установке"
      ]
    },
    {
      "cell_type": "markdown",
      "metadata": {
        "id": "RVze1JSnh8ow"
      },
      "source": [
        "Имеется только 1 вариант извлечения метаданных"
      ]
    },
    {
      "cell_type": "code",
      "metadata": {
        "id": "jm5OgNv4iAF_"
      },
      "source": [
        "from PIL import Image\r\n",
        "import io\r\n",
        "from pyexiv2 import ImageData\r\n",
        "meta = pyexiv2.ImageData(\"C:/Users/stece/Downloads/original.jpg\")\r\n",
        "meta.read()\r\n",
        "byteio = io.BytesIO(meta.buffer)\r\n",
        "img = Image.open(byteio)\r\n",
        "img.show()"
      ],
      "execution_count": null,
      "outputs": []
    },
    {
      "cell_type": "markdown",
      "metadata": {
        "id": "8ZdbCpXZY7r4"
      },
      "source": [
        "##### OpenCV: подходит для изображений"
      ]
    },
    {
      "cell_type": "markdown",
      "metadata": {
        "id": "KpTs2nLopSUy"
      },
      "source": [
        "Данная библиотека без Pyexiv (и то не факт) ни к чему не подходит, просто работает с изображениями"
      ]
    },
    {
      "cell_type": "markdown",
      "metadata": {
        "id": "JwN84Lb-ozxi"
      },
      "source": [
        "##### IPTCInfo: подходит для IPTC"
      ]
    },
    {
      "cell_type": "markdown",
      "metadata": {
        "id": "hDlSlNSAo8AL"
      },
      "source": [
        "Данная библиотека считается устаревшей, не функционирует"
      ]
    },
    {
      "cell_type": "markdown",
      "metadata": {
        "id": "lGnlJBGtuoRU"
      },
      "source": [
        "##### XMP Toolkit: подходит для XMP"
      ]
    },
    {
      "cell_type": "markdown",
      "metadata": {
        "id": "gkCPDQPousdi"
      },
      "source": [
        "Данная библиотека считается устаревшей, не функционирует"
      ]
    },
    {
      "cell_type": "markdown",
      "metadata": {
        "id": "ZFp3Ffeuu196"
      },
      "source": [
        "##### Simplekml: подходит для GPS"
      ]
    },
    {
      "cell_type": "markdown",
      "metadata": {
        "id": "V1_Q2AsOwPQx"
      },
      "source": [
        "Данная библиотека позволяет генерировать KML"
      ]
    },
    {
      "cell_type": "markdown",
      "metadata": {
        "id": "y-cM7SHHxoTF"
      },
      "source": [
        "#### 2. Аудиофайлы"
      ]
    },
    {
      "cell_type": "markdown",
      "metadata": {
        "id": "6pg0MyrVzF8V"
      },
      "source": [
        "##### EyeD3: подходит для аудио"
      ]
    },
    {
      "cell_type": "markdown",
      "metadata": {
        "id": "Qcvb2p-koSnP"
      },
      "source": [
        "Данная библиотека имеет встроенный инструмент:\r\n",
        "\r\n",
        "*\teyed3: извлечение метаданных аудиофайлов через доступ к тегам"
      ]
    },
    {
      "cell_type": "markdown",
      "metadata": {
        "id": "ztspBptWolMI"
      },
      "source": [
        "Было выведено 1 вариант извлечения, 2 варианта изменения и 1 вариант удаления метаданных, но без группирования"
      ]
    },
    {
      "cell_type": "markdown",
      "metadata": {
        "id": "Kx_ZKZoIo42O"
      },
      "source": [
        "Вариант 1. Извлечение метаданных через прямой доступ к тегам"
      ]
    },
    {
      "cell_type": "code",
      "metadata": {
        "id": "KraQ-nwVo4Pv"
      },
      "source": [
        "import eyed3\r\n",
        "\r\n",
        "filename = \"C:/Users/stece/Downloads/XXXTENTACION - BAD (1).mp3\"\r\n",
        "audiofile = eyed3.load(filename)\r\n",
        "print(audiofile.tag.artist)\r\n",
        "print(audiofile.tag.album)\r\n",
        "print(audiofile.tag.album_artist)\r\n",
        "print(audiofile.tag.title)\r\n",
        "print(audiofile.tag.track_num)\r\n",
        "\r\n",
        "print(dir(audiofile.tag))"
      ],
      "execution_count": null,
      "outputs": []
    },
    {
      "cell_type": "markdown",
      "metadata": {
        "id": "Rat-nOQqqQJv"
      },
      "source": [
        "Вариант 2. Изменение метаданных через прямой доступ к тегам"
      ]
    },
    {
      "cell_type": "code",
      "metadata": {
        "id": "gDuNY_9DqXHk"
      },
      "source": [
        "import eyed3\r\n",
        "\r\n",
        "filename = \"C:/Users/stece/Downloads/XXXTENTACION - BAD (1).mp3\"\r\n",
        "audiofile = eyed3.load(filename)\r\n",
        "audiofile.tag.artist = \"Token Entry\"\r\n",
        "audiofile.tag.album = \"Free For All Comp LP\"\r\n",
        "audiofile.tag.album_artist = \"Various Artists\"\r\n",
        "audiofile.tag.title = \"The Edge\"\r\n",
        "audiofile.tag.track_num = 3\r\n",
        "audiofile.tag.save()\r\n",
        "\r\n",
        "print(audiofile)"
      ],
      "execution_count": null,
      "outputs": []
    },
    {
      "cell_type": "markdown",
      "metadata": {
        "id": "hXe7iO3B0P9w"
      },
      "source": [
        "Вариант 3. Изменение метаданных через функцию вставки значений"
      ]
    },
    {
      "cell_type": "code",
      "metadata": {
        "id": "PH77STL10ROI"
      },
      "source": [
        "import eyed3\r\n",
        "\r\n",
        "filename = \"C:/Users/stece/Downloads/XXXTENTACION - BAD (1).mp3\"\r\n",
        "audiofile = eyed3.load(filename)\r\n",
        "audiofile.tag._setAlbum('fggfdf')\r\n",
        "audiofile.tag.save()\r\n",
        "\r\n",
        "print(audiofile.tag.album)"
      ],
      "execution_count": null,
      "outputs": []
    },
    {
      "cell_type": "markdown",
      "metadata": {
        "id": "r1_AXCP705DY"
      },
      "source": [
        "Вариант 4. Удаление метаданных и всех тегов"
      ]
    },
    {
      "cell_type": "code",
      "metadata": {
        "id": "INrKm3ZX05ZA"
      },
      "source": [
        "import eyed3\r\n",
        "\r\n",
        "filename = \"C:/Users/stece/Downloads/XXXTENTACION - BAD (1).mp3\"\r\n",
        "audiofile = eyed3.load(filename)\r\n",
        "audiofile.tag.remove(filename)\r\n",
        "\r\n",
        "print(audiofile.tag.album)"
      ],
      "execution_count": null,
      "outputs": []
    },
    {
      "cell_type": "markdown",
      "metadata": {
        "id": "p1SOhcwwzLvs"
      },
      "source": [
        "##### Audio_Metadata: подходит для аудио"
      ]
    },
    {
      "cell_type": "markdown",
      "metadata": {
        "id": "cA5vNLvfsqMl"
      },
      "source": [
        "Данная библиотека имеет встроенный инструмент:\r\n",
        "\r\n",
        "*\taudio_metadata: извлечение метаданных аудиофайлов в структурированном формате"
      ]
    },
    {
      "cell_type": "markdown",
      "metadata": {
        "id": "Uu1WQaxHxq3s"
      },
      "source": [
        "Был выведен только 1 вариант извлечения метаданных, но с группированием"
      ]
    },
    {
      "cell_type": "markdown",
      "metadata": {
        "id": "x4M7fRHwyI6i"
      },
      "source": [
        "Вариант 1. Извлечение метаданных в структурированном формате"
      ]
    },
    {
      "cell_type": "code",
      "metadata": {
        "id": "AsXlaa0tyIKa"
      },
      "source": [
        "import audio_metadata\r\n",
        "\r\n",
        "filename = \"C:/Users/stece/Downloads/XXXtentacion - BAD (1).mp3\"\r\n",
        "meta = audio_metadata.load(filename)\r\n",
        "print(meta)"
      ],
      "execution_count": null,
      "outputs": []
    },
    {
      "cell_type": "markdown",
      "metadata": {
        "id": "_dniAvawzOm8"
      },
      "source": [
        "##### Id3reader: подходит для аудио"
      ]
    },
    {
      "cell_type": "markdown",
      "metadata": {
        "id": "scmhqgm521IR"
      },
      "source": [
        "Данная библиотека считается устаревшей, не функционирует"
      ]
    },
    {
      "cell_type": "markdown",
      "metadata": {
        "id": "R6LNbpOj8Oct"
      },
      "source": [
        "Имеется только 1 вариант извлечения метаданных"
      ]
    },
    {
      "cell_type": "code",
      "metadata": {
        "id": "Cf8BR7ap8RPV"
      },
      "source": [
        "import id3reader\r\n",
        "\r\n",
        "# Construct a reader from a file or filename.\r\n",
        "id3r = id3reader.Reader('my_favorite.mp3')\r\n",
        "\r\n",
        "# Ask the reader for ID3 values:\r\n",
        "print(id3r.getValue('TT2'))\r\n",
        "\r\n",
        "print(id3r.getValue('album'))\r\n",
        "print(id3r.getValue('performer'))\r\n",
        "print(id3r.getValue('title'))\r\n",
        "print(id3r.getValue('track'))\r\n",
        "print(id3r.getValue('year'))"
      ],
      "execution_count": null,
      "outputs": []
    },
    {
      "cell_type": "markdown",
      "metadata": {
        "id": "xYYK8ExRzRpi"
      },
      "source": [
        "##### Mpeg1audio: подходит для аудио"
      ]
    },
    {
      "cell_type": "markdown",
      "metadata": {
        "id": "QhpNkM0qBnut"
      },
      "source": [
        "Данная библиотека считается устаревшей, не функционирует"
      ]
    },
    {
      "cell_type": "markdown",
      "metadata": {
        "id": "BURQNwcnByKj"
      },
      "source": [
        "Имеется только 1 вариант извлечения метаданных"
      ]
    },
    {
      "cell_type": "code",
      "metadata": {
        "id": "WXfq4By-BynT"
      },
      "source": [
        "import mpeg1audio\r\n",
        "\r\n",
        "filename = \"C:/Users/stece/Downloads/XXXTENTACION - BAD (1).mp3\"\r\n",
        "\r\n",
        "try:\r\n",
        "    mp3 = mpeg1audio.MPEGAudio(open(filename, 'rb'))\r\n",
        "except mpeg1audio.MPEGAudioHeaderException:\r\n",
        "    pass\r\n",
        "else:\r\n",
        "    print (mp3.duration)"
      ],
      "execution_count": null,
      "outputs": []
    },
    {
      "cell_type": "markdown",
      "metadata": {
        "id": "mOhyq56BzUGI"
      },
      "source": [
        "##### Pydub: подходит для аудио"
      ]
    },
    {
      "cell_type": "markdown",
      "metadata": {
        "id": "fhGY6GCEDcxa"
      },
      "source": [
        "Данная библиотека считается самой свежой и к тому же 2020 года, но выдает ошибки при компиляции"
      ]
    },
    {
      "cell_type": "markdown",
      "metadata": {
        "id": "bAJ5z8cnDib5"
      },
      "source": [
        "Имеется только 1 вариант извлечения метаданных"
      ]
    },
    {
      "cell_type": "code",
      "metadata": {
        "id": "b-f5xo1QDi8C"
      },
      "source": [
        "from pydub import AudioSegment\r\n",
        "\r\n",
        "filename = \"C:/Users/stece/Downloads/XXXtentacion - BAD (1).mp3\"\r\n",
        "\r\n",
        "song = AudioSegment.from_mp3(filename)\r\n",
        "print(song)\r\n",
        "\r\n",
        "# pydub does things in miliseconds\r\n",
        "ten_seconds = 10 * 1000\r\n",
        "\r\n",
        "first_10_seconds = song[:10000]\r\n",
        "\r\n",
        "last_5_seconds = song[-5000:]\r\n",
        "\r\n",
        "# boost volume by 6dB\r\n",
        "beginning = first_10_seconds + 6\r\n",
        "\r\n",
        "# reduce volume by 3dB\r\n",
        "end = last_5_seconds - 3\r\n",
        "\r\n",
        "without_the_middle = beginning + end\r\n",
        "\r\n",
        "# song is not modified\r\n",
        "backwards = song.reverse()\r\n",
        "\r\n",
        "# 1.5 second crossfade\r\n",
        "with_style = beginning.append(end, crossfade=1500)\r\n",
        "\r\n",
        "# repeat the clip twice\r\n",
        "do_it_over = with_style * 2\r\n",
        "\r\n",
        "# 2 sec fade in, 3 sec fade out\r\n",
        "awesome = do_it_over.fade_in(2000).fade_out(3000)\r\n",
        "\r\n",
        "awesome.export(\"mashup.mp3\", format=\"mp3\")"
      ],
      "execution_count": null,
      "outputs": []
    },
    {
      "cell_type": "markdown",
      "metadata": {
        "id": "TT5hMBhKzbsT"
      },
      "source": [
        "#### 3. Видеофайлы"
      ]
    },
    {
      "cell_type": "markdown",
      "metadata": {
        "id": "1KPThgvtze_M"
      },
      "source": [
        "##### Youtube-extract: подходит для видео"
      ]
    },
    {
      "cell_type": "markdown",
      "metadata": {
        "id": "0wK0LTeB7J-L"
      },
      "source": [
        "Данная библиотека работает только с видео на Youtube-канале"
      ]
    },
    {
      "cell_type": "markdown",
      "metadata": {
        "id": "jXjHlIF5zj99"
      },
      "source": [
        "##### Enzyme: подходит для видео"
      ]
    },
    {
      "cell_type": "markdown",
      "metadata": {
        "id": "-qPJEg0_FTgq"
      },
      "source": [
        "Данная библиотека считается устаревшей, функционирует с немногими форматами"
      ]
    },
    {
      "cell_type": "markdown",
      "metadata": {
        "id": "kdlcKk8MJKOY"
      },
      "source": [
        "Имеется только 1 вариант извлечения метаданных"
      ]
    },
    {
      "cell_type": "code",
      "metadata": {
        "id": "46H-gUB4JKrX"
      },
      "source": [
        "import enzyme\r\n",
        "\r\n",
        "filenameMkv = \"C:/Users/stece/Downloads/6IX9INE- GOOBA (Official Music Video).webm\"\r\n",
        "\r\n",
        "with open(filenameMkv, 'rb') as f:\r\n",
        "    mkv = enzyme.MKV(f)\r\n",
        "\r\n",
        "print(mkv)\r\n",
        "print(mkv.info)\r\n",
        "print(mkv.video_tracks)\r\n",
        "print(mkv.audio_tracks)\r\n",
        "print(mkv.subtitle_tracks)"
      ],
      "execution_count": null,
      "outputs": []
    },
    {
      "cell_type": "markdown",
      "metadata": {
        "id": "kp2og5sxzov5"
      },
      "source": [
        "##### FFmpeg: подходит для видео"
      ]
    },
    {
      "cell_type": "markdown",
      "metadata": {
        "id": "mGAc8HEtFUDw"
      },
      "source": [
        "Данная библиотека считается относительно свежей, не функционирует"
      ]
    },
    {
      "cell_type": "markdown",
      "metadata": {
        "id": "5ajgcN5aN5od"
      },
      "source": [
        "Имеется только 1 вариант извлечения метаданных"
      ]
    },
    {
      "cell_type": "code",
      "metadata": {
        "id": "SNmwb98vN6HN"
      },
      "source": [
        "import ffmpeg\r\n",
        "\r\n",
        "filename4 = \"C:/Users/stece/Downloads/videoplayback.mp4\"\r\n",
        "filename69 = \"C:/Users/stece/Downloads/6IX9INE- GOOBA (Official Music Video).webm\"\r\n",
        "\r\n",
        "input = ffmpeg.input(filename4)\r\n",
        "audio = input.audio.filter(\"aecho\", 0.8, 0.9, 1000, 0.3)\r\n",
        "video = input.video.hflip()\r\n",
        "#out = ffmpeg.output(audio, video, 'out.mp4')\r\n",
        "print(audio)\r\n",
        "print(video)"
      ],
      "execution_count": null,
      "outputs": []
    },
    {
      "cell_type": "markdown",
      "metadata": {
        "id": "jBY7r4DEzuOE"
      },
      "source": [
        "#### 4. PDF"
      ]
    },
    {
      "cell_type": "markdown",
      "metadata": {
        "id": "cYaAtD9yz3NQ"
      },
      "source": [
        "##### PyPDF2: подходит для PDF, XMP"
      ]
    },
    {
      "cell_type": "markdown",
      "metadata": {
        "id": "Z4SuyJfJNQk3"
      },
      "source": [
        "Данная библиотека имеет два встроенных инструмента:\r\n",
        "\r\n",
        "*\tgetDocumentInfo: извлечение основных метаданных\r\n",
        "* getXmpMetadata: извлечение метаданных XMP\r\n",
        "* documentInfo: обновление основных метаданных"
      ]
    },
    {
      "cell_type": "markdown",
      "metadata": {
        "id": "bydvnxTpNU_u"
      },
      "source": [
        "Было выведено 6 вариантов извлечения и 3 варианта изменения метаданных, но с группированием"
      ]
    },
    {
      "cell_type": "markdown",
      "metadata": {
        "id": "wB78lceJ_t2t"
      },
      "source": [
        "Вариант 1. Извлечение основных метаданных путем прямого доступа к тегам с проверкой"
      ]
    },
    {
      "cell_type": "code",
      "metadata": {
        "id": "khyeoX7PDB9Z"
      },
      "source": [
        "import datetime\r\n",
        "from PyPDF2 import PdfFileReader\r\n",
        "import sys\r\n",
        "\r\n",
        "#filename1 = \"C:/Users/stece/Downloads/mets_overview_rus.pdf\"\r\n",
        "filename2 = \"C:/Users/stece/Downloads/tsifrovye-sledy-naznachenie-i-proizvodstvo-ekspertiz.pdf\"\r\n",
        "\r\n",
        "pdf_file = PdfFileReader(filename2)\r\n",
        "base = pdf_file.getDocumentInfo()\r\n",
        "\r\n",
        "if base is None:\r\n",
        "   print(\"No base metadata found in document.\")\r\n",
        "   sys.exit()\r\n",
        "\r\n",
        "def custom_print(fmt_str, value):\r\n",
        "   if isinstance(value, list):\r\n",
        "      print(fmt_str.format(\", \".join(value)))\r\n",
        "   elif isinstance(value, dict):\r\n",
        "      fmt_value = [\":\".join((k, v)) for k, v in value.items()]\r\n",
        "      print(fmt_str.format(\", \".join(value)))\r\n",
        "   elif isinstance(value, str) or isinstance(value, bool):\r\n",
        "      print(fmt_str.format(value))\r\n",
        "   elif isinstance(value, bytes):\r\n",
        "      print(fmt_str.format(value.decode()))\r\n",
        "   elif isinstance(value, datetime.datetime):\r\n",
        "      print(fmt_str.format(value.isoformat()))\r\n",
        "   elif value is None:\r\n",
        "      print(fmt_str.format(\"N/A\"))\r\n",
        "   else:\r\n",
        "      print(\"warn: unhandled type {} found\".format(type(value)))\r\n",
        "\r\n",
        "custom_print(\"Title: {}\", base.title)\r\n",
        "custom_print(\"Creator(s): {}\", base.creator)\r\n",
        "custom_print(\"Subject: {}\", base.subject)\r\n"
      ],
      "execution_count": null,
      "outputs": []
    },
    {
      "cell_type": "markdown",
      "metadata": {
        "id": "itOAsu56_2Vw"
      },
      "source": [
        "Вариант 2. Извлечение метаданных XMP путем прямого доступа к тегам с проверкой"
      ]
    },
    {
      "cell_type": "code",
      "metadata": {
        "id": "5J6AtILI_0ZX"
      },
      "source": [
        "import datetime\r\n",
        "from PyPDF2 import PdfFileReader\r\n",
        "import sys\r\n",
        "\r\n",
        "filename1 = \"C:/Users/stece/Downloads/mets_overview_rus.pdf\"\r\n",
        "filename2 = \"C:/Users/stece/Downloads/tsifrovye-sledy-naznachenie-i-proizvodstvo-ekspertiz.pdf\"\r\n",
        "filename3 = \"C:/Users/stece/Downloads/График платежей.pdf\"\r\n",
        "\r\n",
        "pdf_file = PdfFileReader(filename1)\r\n",
        "xmpm = pdf_file.getXmpMetadata()\r\n",
        "\r\n",
        "if xmpm is None:\r\n",
        "   print(\"No XMP metadata found in document.\")\r\n",
        "   sys.exit()\r\n",
        "\r\n",
        "def custom_print(fmt_str, value):\r\n",
        "   if isinstance(value, list):\r\n",
        "      print(fmt_str.format(\", \".join(value)))\r\n",
        "   elif isinstance(value, dict):\r\n",
        "      fmt_value = [\":\".join((k, v)) for k, v in value.items()]\r\n",
        "      print(fmt_str.format(\", \".join(value)))\r\n",
        "   elif isinstance(value, str) or isinstance(value, bool):\r\n",
        "      print(fmt_str.format(value))\r\n",
        "   elif isinstance(value, bytes):\r\n",
        "      print(fmt_str.format(value.decode()))\r\n",
        "   elif isinstance(value, datetime.datetime):\r\n",
        "      print(fmt_str.format(value.isoformat()))\r\n",
        "   elif value is None:\r\n",
        "      print(fmt_str.format(\"N/A\"))\r\n",
        "   else:\r\n",
        "      print(\"warn: unhandled type {} found\".format(type(value)))\r\n",
        "\r\n",
        "custom_print(\"Title: {}\", xmpm.dc_title)\r\n",
        "custom_print(\"Creator(s): {}\", xmpm.dc_creator)\r\n",
        "custom_print(\"Contributors: {}\", xmpm.dc_contributor)\r\n",
        "custom_print(\"Subject: {}\", xmpm.dc_subject)\r\n",
        "custom_print(\"Description: {}\", xmpm.dc_description)\r\n",
        "custom_print(\"Created: {}\", xmpm.xmp_createDate)\r\n",
        "custom_print(\"Modified: {}\", xmpm.xmp_modifyDate)\r\n",
        "custom_print(\"Event Dates: {}\", xmpm.dc_date)\r\n",
        "\r\n",
        "if xmpm.custom_properties:\r\n",
        "   print(\"Custom Properties:\")\r\n",
        "   \r\n",
        "   for k, v in xmpm.custom_properties.items():\r\n",
        "      print(\"\\t{}: {}\".format(k, v))"
      ],
      "execution_count": null,
      "outputs": []
    },
    {
      "cell_type": "markdown",
      "metadata": {
        "id": "oPvvW7ImDJPL"
      },
      "source": [
        "Вариант 3. Извлечение всех основных метаданных"
      ]
    },
    {
      "cell_type": "code",
      "metadata": {
        "id": "hJq6HeaGDK34"
      },
      "source": [
        "import datetime\r\n",
        "from PyPDF2 import PdfFileReader\r\n",
        "import sys\r\n",
        "\r\n",
        "filename1 = \"C:/Users/stece/Downloads/mets_overview_rus.pdf\"\r\n",
        "filename2 = \"C:/Users/stece/Downloads/tsifrovye-sledy-naznachenie-i-proizvodstvo-ekspertiz.pdf\"\r\n",
        "\r\n",
        "pdf_file = PdfFileReader(filename2)\r\n",
        "base = pdf_file.getDocumentInfo()\r\n",
        "\r\n",
        "print(base)"
      ],
      "execution_count": null,
      "outputs": []
    },
    {
      "cell_type": "markdown",
      "metadata": {
        "id": "DWO67BzpK06f"
      },
      "source": [
        "Вариант 4. Извлечение всех метаданных XMP с проверкой"
      ]
    },
    {
      "cell_type": "code",
      "metadata": {
        "id": "JjCOIHy3K_Mk"
      },
      "source": [
        "import datetime\r\n",
        "from PyPDF2 import PdfFileReader\r\n",
        "import sys\r\n",
        "\r\n",
        "filename1 = \"C:/Users/stece/Downloads/mets_overview_rus.pdf\"\r\n",
        "filename2 = \"C:/Users/stece/Downloads/tsifrovye-sledy-naznachenie-i-proizvodstvo-ekspertiz.pdf\"\r\n",
        "\r\n",
        "pdf_file = PdfFileReader(filename1)\r\n",
        "xmpm = pdf_file.getXmpMetadata()\r\n",
        "\r\n",
        "xmp_methods = ['custom_properties', 'dc_contributor',\r\n",
        "                'dc_coverage', 'dc_creator',\r\n",
        "                'dc_date', 'dc_description',\r\n",
        "                'dc_format', 'dc_identifier',\r\n",
        "                'dc_language', 'dc_publisher',\r\n",
        "                'dc_relation', 'dc_rights',\r\n",
        "                'dc_source', 'dc_subject',\r\n",
        "                'dc_title', 'dc_type',\r\n",
        "                'pdf_keywords', 'pdf_pdfversion',\r\n",
        "                'pdf_producer', 'xmp_createDate',\r\n",
        "                'xmp_creatorTool', 'xmp_metadataDate',\r\n",
        "                'xmp_modifyDate', 'xmpmm_documentId',\r\n",
        "                'xmpmm_instanceId']\r\n",
        "\r\n",
        "xmpm_dict = {}\r\n",
        "for i in xmp_methods:\r\n",
        "    try:\r\n",
        "        xmpm_dict[i] = getattr(xmpm, i)\r\n",
        "    except:\r\n",
        "        xmpm_dict[i] = ''\r\n",
        "\r\n",
        "print(xmpm_dict)"
      ],
      "execution_count": null,
      "outputs": []
    },
    {
      "cell_type": "markdown",
      "metadata": {
        "id": "fHoVfwU2LG6n"
      },
      "source": [
        "Вариант 5. Извлечение всех основных метаданных итеративно"
      ]
    },
    {
      "cell_type": "code",
      "metadata": {
        "id": "KTKWuyX1LK6Y"
      },
      "source": [
        "import datetime\r\n",
        "from PyPDF2 import PdfFileReader\r\n",
        "import sys\r\n",
        "\r\n",
        "filename1 = \"C:/Users/stece/Downloads/mets_overview_rus.pdf\"\r\n",
        "filename2 = \"C:/Users/stece/Downloads/tsifrovye-sledy-naznachenie-i-proizvodstvo-ekspertiz.pdf\"\r\n",
        "\r\n",
        "pdf_file = PdfFileReader(filename2)\r\n",
        "base = pdf_file.getDocumentInfo()\r\n",
        "\r\n",
        "for data in base:\r\n",
        "    print(data + \":\", base[data])"
      ],
      "execution_count": null,
      "outputs": []
    },
    {
      "cell_type": "markdown",
      "metadata": {
        "id": "YgglxN9OLZwt"
      },
      "source": [
        "Вариант 6. Извлечение всех метаданных XMP с проверкой итеративно"
      ]
    },
    {
      "cell_type": "code",
      "metadata": {
        "id": "Dp45rR4PLdpI"
      },
      "source": [
        "import datetime\r\n",
        "from PyPDF2 import PdfFileReader\r\n",
        "import sys\r\n",
        "\r\n",
        "filename1 = \"C:/Users/stece/Downloads/mets_overview_rus.pdf\"\r\n",
        "filename2 = \"C:/Users/stece/Downloads/tsifrovye-sledy-naznachenie-i-proizvodstvo-ekspertiz.pdf\"\r\n",
        "\r\n",
        "pdf_file = PdfFileReader(filename1)\r\n",
        "xmpm = pdf_file.getXmpMetadata()\r\n",
        "\r\n",
        "xmp_methods = ['custom_properties', 'dc_contributor',\r\n",
        "                'dc_coverage', 'dc_creator',\r\n",
        "                'dc_date', 'dc_description',\r\n",
        "                'dc_format', 'dc_identifier',\r\n",
        "                'dc_language', 'dc_publisher',\r\n",
        "                'dc_relation', 'dc_rights',\r\n",
        "                'dc_source', 'dc_subject',\r\n",
        "                'dc_title', 'dc_type',\r\n",
        "                'pdf_keywords', 'pdf_pdfversion',\r\n",
        "                'pdf_producer', 'xmp_createDate',\r\n",
        "                'xmp_creatorTool', 'xmp_metadataDate',\r\n",
        "                'xmp_modifyDate', 'xmpmm_documentId',\r\n",
        "                'xmpmm_instanceId']\r\n",
        "\r\n",
        "xmpm_dict = {}\r\n",
        "for i in xmp_methods:\r\n",
        "    try:\r\n",
        "        xmpm_dict[i] = getattr(xmpm, i)\r\n",
        "    except:\r\n",
        "        xmpm_dict[i] = ''\r\n",
        "\r\n",
        "for data in xmpm_dict:\r\n",
        "    print(data + \":\", xmpm_dict[data])"
      ],
      "execution_count": null,
      "outputs": []
    },
    {
      "cell_type": "markdown",
      "metadata": {
        "id": "_Rjk9IbpRzcO"
      },
      "source": [
        "Вариант 7. Изменение основных метаданных путем перезаписи всех метаданных, в том числе и неизмененных"
      ]
    },
    {
      "cell_type": "code",
      "metadata": {
        "id": "HUj3wWGMSKPR"
      },
      "source": [
        "from PyPDF2 import PdfFileReader, PdfFileWriter\r\n",
        "\r\n",
        "filename1 = \"C:/Users/stece/Downloads/mets_overview_rus.pdf\"\r\n",
        "filename2 = \"C:/Users/stece/Downloads/tsifrovye-sledy-naznachenie-i-proizvodstvo-ekspertiz.pdf\"\r\n",
        "filename3 = 'C:/Users/stece/Downloads/new.pdf'\r\n",
        "\r\n",
        "file_in = open(filename1, 'rb')\r\n",
        "pdf_reader = PdfFileReader(file_in)\r\n",
        "metadata = pdf_reader.getDocumentInfo()\r\n",
        "#metadata.author.__setattr__ = \"whoami\"\r\n",
        "#setattr(metadata, '/Author', \"whoami\")\r\n",
        "#print(metadata)\r\n",
        "\r\n",
        "pdf_writer = PdfFileWriter()\r\n",
        "pdf_writer.appendPagesFromReader(pdf_reader)\r\n",
        "#pdf_writer.addMetadata(metadata)\r\n",
        "pdf_writer.addMetadata({\r\n",
        "    '/Author': 'Someone',\r\n",
        "    '/Title': 'PDF in Python'\r\n",
        "})\r\n",
        "file_out = open('C:/Users/stece/Downloads/new.pdf', 'wb')\r\n",
        "pdf_writer.write(file_out)\r\n",
        "\r\n",
        "file_in.close()\r\n",
        "file_out.close()"
      ],
      "execution_count": null,
      "outputs": []
    },
    {
      "cell_type": "markdown",
      "metadata": {
        "id": "WHGmUEEPSNi2"
      },
      "source": [
        "Вариант 8. Изменение основных метаданных путем добавление отдельных метаданных"
      ]
    },
    {
      "cell_type": "code",
      "metadata": {
        "id": "yDlMEVZTSSCy"
      },
      "source": [
        "from PyPDF2 import PdfFileReader, PdfFileMerger\r\n",
        "\r\n",
        "filename1 = \"C:/Users/stece/Downloads/mets_overview_rus.pdf\"\r\n",
        "filename2 = \"C:/Users/stece/Downloads/tsifrovye-sledy-naznachenie-i-proizvodstvo-ekspertiz.pdf\"\r\n",
        "filename3 = 'C:/Users/stece/Downloads/new.pdf'\r\n",
        "\r\n",
        "file_in = open(filename1, 'rb')\r\n",
        "pdf_reader = PdfFileReader(file_in)\r\n",
        "metadata = pdf_reader.getDocumentInfo()\r\n",
        "#metadata.author.__setattr__ = \"whoami\"\r\n",
        "#setattr(metadata, '/Author', \"whoami\")\r\n",
        "#print(metadata)\r\n",
        "\r\n",
        "pdf_merger = PdfFileMerger()\r\n",
        "#pdf_merger.appendPagesFromReader(pdf_reader)\r\n",
        "#pdf_writer.addMetadata(metadata)\r\n",
        "pdf_merger.addMetadata({\r\n",
        "    '/Author': 'Someone',\r\n",
        "    '/Title': 'PDF in Python'\r\n",
        "})\r\n",
        "file_in.close()\r\n",
        "file_out = open(filename1, 'wb')\r\n",
        "pdf_merger.write(file_out)\r\n",
        "\r\n",
        "file_out.close()"
      ],
      "execution_count": null,
      "outputs": []
    },
    {
      "cell_type": "markdown",
      "metadata": {
        "id": "XNm-pZmzht_G"
      },
      "source": [
        "Вариант 9. Изменение основных метаданных путем обновления отдельных метаданных"
      ]
    },
    {
      "cell_type": "code",
      "metadata": {
        "id": "VZ09Wuvhhucn"
      },
      "source": [
        "from PyPDF2 import PdfFileReader, PdfFileWriter\r\n",
        "from PyPDF2.generic import NameObject, createStringObject\r\n",
        "\r\n",
        "filename1 = \"C:/Users/stece/Downloads/mets_overview_rus.pdf\"\r\n",
        "filename2 = \"C:/Users/stece/Downloads/tsifrovye-sledy-naznachenie-i-proizvodstvo-ekspertiz.pdf\"\r\n",
        "filename3 = 'C:/Users/stece/Downloads/new.pdf'\r\n",
        "\r\n",
        "file_in = open(filename1, 'rb')\r\n",
        "pdf_reader = PdfFileReader(file_in)\r\n",
        "writer = PdfFileWriter()\r\n",
        "infoDict = writer._info.getObject()\r\n",
        "\r\n",
        "info = pdf_reader.documentInfo\r\n",
        "for key in info:\r\n",
        "    infoDict.update({NameObject(key): createStringObject(info[key])})\r\n",
        "    print(key + \":\", info[key])\r\n",
        "\r\n",
        "infoDict.update({NameObject('/Title'): createStringObject('whoami')})\r\n",
        "\r\n",
        "fout = open('C:/Users/stece/Downloads/out.pdf', 'wb')\r\n",
        "\r\n",
        "writer.write(fout)\r\n",
        "file_in.close()\r\n",
        "\r\n",
        "fout.close()"
      ],
      "execution_count": null,
      "outputs": []
    },
    {
      "cell_type": "markdown",
      "metadata": {
        "id": "L3D2c3qGz7IG"
      },
      "source": [
        "##### PDFMiner: подходит для PDF, XMP"
      ]
    },
    {
      "cell_type": "markdown",
      "metadata": {
        "id": "B9u5klMENRYW"
      },
      "source": [
        "Данная библиотека имеет встроенный инструмент:\r\n",
        "\r\n",
        "*\tPDFDocument: извлечение всех метаданных"
      ]
    },
    {
      "cell_type": "markdown",
      "metadata": {
        "id": "yQ7AttClNVfo"
      },
      "source": [
        "Был выведен только 1 вариант извлечения метаданных (возможно имеются варианты изменения и удаления), но относительно с группированием"
      ]
    },
    {
      "cell_type": "markdown",
      "metadata": {
        "id": "QSToFLUl0hs_"
      },
      "source": [
        "Вариант 1. Извлечение всех метаданных, используя дополнительный скрипт с парсингом"
      ]
    },
    {
      "cell_type": "code",
      "metadata": {
        "id": "xPZ5E2Vb0hLe"
      },
      "source": [
        "from pdfminer.pdfparser import PDFParser\r\n",
        "from pdfminer.pdfdocument import PDFDocument\r\n",
        "from pdfminer.pdftypes import resolve1\r\n",
        "from live import xmp_to_dict\r\n",
        "\r\n",
        "filename1 = \"C:/Users/stece/Downloads/mets_overview_rus.pdf\"\r\n",
        "filename2 = \"C:/Users/stece/Downloads/tsifrovye-sledy-naznachenie-i-proizvodstvo-ekspertiz.pdf\"\r\n",
        "#filename3 = 'C:/Users/stece/Downloads/new.pdf'\r\n",
        "\r\n",
        "fp = open(filename1, 'rb')\r\n",
        "parser = PDFParser(fp)\r\n",
        "doc = PDFDocument(parser)\r\n",
        "\r\n",
        "#print(doc.catalog)  # The \"Info\" metadata\r\n",
        "\r\n",
        "if 'Metadata' in doc.catalog:\r\n",
        "    metadata = resolve1(doc.catalog['Metadata']).get_data()\r\n",
        "    #print(xmp_to_dict(metadata))  # The raw XMP metadata\r\n",
        "\r\n",
        "    meta = xmp_to_dict(metadata)\r\n",
        "    print(meta.items())"
      ],
      "execution_count": null,
      "outputs": []
    },
    {
      "cell_type": "code",
      "metadata": {
        "id": "wG6WStbH0rK2"
      },
      "source": [
        "#filename1 = \"C:/Users/stece/Downloads/mets_overview_rus.pdf\"\r\n",
        "#filename2 = \"C:/Users/stece/Downloads/tsifrovye-sledy-naznachenie-i-proizvodstvo-ekspertiz.pdf\"\r\n",
        "#filename3 = 'C:/Users/stece/Downloads/new.pdf'\r\n",
        "\r\n",
        "#!/usr/bin/env python\r\n",
        "\"\"\"\r\n",
        " xmp.py\r\n",
        "    ~~~~~~\r\n",
        " Parses XMP metadata from PDF files.\r\n",
        " By Matt Swain. Released under the MIT license.\r\n",
        "\"\"\"\r\n",
        "from collections import defaultdict\r\n",
        "from xml.etree import ElementTree as ET\r\n",
        "RDF_NS = '{http://www.w3.org/1999/02/22-rdf-syntax-ns#}'\r\n",
        "XML_NS = '{http://www.w3.org/XML/1998/namespace}'\r\n",
        "NS_MAP = {\r\n",
        "    'http://www.w3.org/1999/02/22-rdf-syntax-ns#'    : 'rdf',\r\n",
        "    'http://purl.org/dc/elements/1.1/'               : 'dc',\r\n",
        "    'http://ns.adobe.com/xap/1.0/'                   : 'xap',\r\n",
        "    'http://ns.adobe.com/pdf/1.3/'                   : 'pdf',\r\n",
        "    'http://ns.adobe.com/xap/1.0/mm/'                : 'xapmm',\r\n",
        "    'http://ns.adobe.com/pdfx/1.3/'                  : 'pdfx',\r\n",
        "    'http://prismstandard.org/namespaces/basic/2.0/' : 'prism',\r\n",
        "    'http://crossref.org/crossmark/1.0/'             : 'crossmark',\r\n",
        "    'http://ns.adobe.com/xap/1.0/rights/'            : 'rights',\r\n",
        "    'http://www.w3.org/XML/1998/namespace'           : 'xml'\r\n",
        "}\r\n",
        "class XmpParser(object):\r\n",
        "    \"\"\"Parser that converts an XMP string into a dictionary.\r\n",
        "    Usage::\r\n",
        "        parser = XmpParser(xmpstring)\r\n",
        "        meta = parser.meta\r\n",
        "    \"\"\"\r\n",
        "    def __init__(self, xmp):\r\n",
        "        self.tree = ET.XML(xmp)\r\n",
        "        self.rdftree = self.tree.find(RDF_NS+'RDF')\r\n",
        "    @property\r\n",
        "    def meta(self):\r\n",
        "        \"\"\"A dictionary of all the parsed metadata.\"\"\"\r\n",
        "        meta = defaultdict(dict)\r\n",
        "        for desc in self.rdftree.findall(RDF_NS+'Description'):\r\n",
        "            for el in desc.getchildren():\r\n",
        "                ns, tag =  self._parse_tag(el)\r\n",
        "                value = self._parse_value(el)\r\n",
        "                meta[ns][tag] = value\r\n",
        "        return dict(meta)\r\n",
        "    def _parse_tag(self, el):\r\n",
        "        \"\"\"Extract the namespace and tag from an element.\"\"\"\r\n",
        "        ns = None\r\n",
        "        tag = el.tag\r\n",
        "        if tag[0] == \"{\":\r\n",
        "            ns, tag = tag[1:].split('}',1)\r\n",
        "            if ns in NS_MAP:\r\n",
        "                ns = NS_MAP[ns]\r\n",
        "        return ns, tag\r\n",
        "    def _parse_value(self, el):\r\n",
        "        \"\"\"Extract the metadata value from an element.\"\"\"\r\n",
        "        if el.find(RDF_NS+'Bag') is not None:\r\n",
        "            value = []\r\n",
        "            for li in el.findall(RDF_NS+'Bag/'+RDF_NS+'li'):\r\n",
        "                value.append(li.text)\r\n",
        "        elif el.find(RDF_NS+'Seq') is not None:\r\n",
        "            value = []\r\n",
        "            for li in el.findall(RDF_NS+'Seq/'+RDF_NS+'li'):\r\n",
        "                value.append(li.text)\r\n",
        "        elif el.find(RDF_NS+'Alt') is not None:\r\n",
        "            value = {}\r\n",
        "            for li in el.findall(RDF_NS+'Alt/'+RDF_NS+'li'):\r\n",
        "                value[li.get(XML_NS+'lang')] = li.text\r\n",
        "        else:\r\n",
        "            value = el.text\r\n",
        "        return value\r\n",
        "def xmp_to_dict(xmp):\r\n",
        "    \"\"\"Parse an XMP string into a dictionary.\"\"\"\r\n",
        "    return XmpParser(xmp).meta"
      ],
      "execution_count": null,
      "outputs": []
    },
    {
      "cell_type": "markdown",
      "metadata": {
        "id": "rwKtHgyLz9ar"
      },
      "source": [
        "##### PDFx: подходит для PDF, XMP"
      ]
    },
    {
      "cell_type": "markdown",
      "metadata": {
        "id": "GBJrSjfvNR-H"
      },
      "source": [
        "Данная библиотека имеет встроенный инструмент:\r\n",
        "\r\n",
        "*\tget_metadata: извлечение всех метаданных"
      ]
    },
    {
      "cell_type": "markdown",
      "metadata": {
        "id": "jM7Nq-wsNWCV"
      },
      "source": [
        "Было выведено только 3 варианта извлечения метаданных (возможно имеются варианты изменения и удаления), но с группированием"
      ]
    },
    {
      "cell_type": "markdown",
      "metadata": {
        "id": "aGQh6ni9EPvj"
      },
      "source": [
        "Вариант 1. Извлечение всех метаданных"
      ]
    },
    {
      "cell_type": "code",
      "metadata": {
        "id": "QGnOtnZCEWK_"
      },
      "source": [
        "import pdfx\r\n",
        "\r\n",
        "filename1 = \"C:/Users/stece/Downloads/mets_overview_rus.pdf\"\r\n",
        "filename2 = \"C:/Users/stece/Downloads/tsifrovye-sledy-naznachenie-i-proizvodstvo-ekspertiz.pdf\"\r\n",
        "filename3 = 'C:/Users/stece/Downloads/new.pdf'\r\n",
        "\r\n",
        "pdf = pdfx.PDFx(filename1)\r\n",
        "metadata = pdf.get_metadata()\r\n",
        "print(metadata)"
      ],
      "execution_count": null,
      "outputs": []
    },
    {
      "cell_type": "markdown",
      "metadata": {
        "id": "LDg3-X0JEYL6"
      },
      "source": [
        "Вариант 2. Извлечение отдельных метаданных с проверкой"
      ]
    },
    {
      "cell_type": "code",
      "metadata": {
        "id": "7fYuFKBZEfOp"
      },
      "source": [
        "import pdfx\r\n",
        "\r\n",
        "filename1 = \"C:/Users/stece/Downloads/mets_overview_rus.pdf\"\r\n",
        "filename2 = \"C:/Users/stece/Downloads/tsifrovye-sledy-naznachenie-i-proizvodstvo-ekspertiz.pdf\"\r\n",
        "filename3 = 'C:/Users/stece/Downloads/new.pdf'\r\n",
        "\r\n",
        "def check_if_exist(data):\r\n",
        "    if data:\r\n",
        "        if isinstance(data, list):\r\n",
        "            return ', '.join(data)\r\n",
        "        return data\r\n",
        "    return None\r\n",
        "\r\n",
        "pdf = pdfx.PDFx(filename1)\r\n",
        "metadata = pdf.get_metadata()\r\n",
        "# print(type(metadata))\r\n",
        "# print(metadata['dc']['creator'])\r\n",
        "# print(type(metadata['dc']['creator']))\r\n",
        "# print(metadata['dc']['publisher'])\r\n",
        "# print(metadata['dc']['identifier'])\r\n",
        "# print(' '.join(metadata['dc']['subject']))\r\n",
        "args = dict()\r\n",
        "args['author'] = check_if_exist(metadata['dc']['creator'])\r\n",
        "#args['publisher'] = check_if_exist(metadata['dc']['publisher'])\r\n",
        "#args['doi'] = check_if_exist(metadata['dc']['identifier'])\r\n",
        "#args['title'] = check_if_exist(metadata['dc']['title']['x-default'])\r\n",
        "#args['subject'] = check_if_exist(metadata['dc']['subject'])\r\n",
        "args['pages'] = check_if_exist(metadata['Pages'])\r\n",
        "print(args)"
      ],
      "execution_count": null,
      "outputs": []
    },
    {
      "cell_type": "markdown",
      "metadata": {
        "id": "_ZmwGr8mEeWK"
      },
      "source": [
        "Вариант 3. Извлечение отдельных метаданных итеративно"
      ]
    },
    {
      "cell_type": "code",
      "metadata": {
        "id": "vHCy0TVpEjeq"
      },
      "source": [
        "import pdfx\r\n",
        "\r\n",
        "filename1 = \"C:/Users/stece/Downloads/mets_overview_rus.pdf\"\r\n",
        "filename2 = \"C:/Users/stece/Downloads/tsifrovye-sledy-naznachenie-i-proizvodstvo-ekspertiz.pdf\"\r\n",
        "filename3 = 'C:/Users/stece/Downloads/new.pdf'\r\n",
        "\r\n",
        "pdf = pdfx.PDFx(filename1)\r\n",
        "metadata = pdf.get_metadata()\r\n",
        "#print(metadata.items())\r\n",
        "#print(metadata.keys())\r\n",
        "#print(metadata.values())\r\n",
        "#print(metadata.get('dc'))\r\n",
        "#metadata.clear()\r\n",
        "print(metadata.items())\r\n",
        "\r\n",
        "for t in metadata.items():\r\n",
        "    print(t)"
      ],
      "execution_count": null,
      "outputs": []
    },
    {
      "cell_type": "markdown",
      "metadata": {
        "id": "mM643--Bz_wI"
      },
      "source": [
        "##### Pycpdf: подходит для PDF, возможно XMP"
      ]
    },
    {
      "cell_type": "markdown",
      "metadata": {
        "id": "yRcidUz_NSxd"
      },
      "source": [
        "Данная библиотека считается относительно свежей, не функционирует"
      ]
    },
    {
      "cell_type": "markdown",
      "metadata": {
        "id": "TNMM2MV5NXEU"
      },
      "source": [
        "Имеется только 1 вариант извлечения метаданных"
      ]
    },
    {
      "cell_type": "code",
      "metadata": {
        "id": "P_9RjLPhKR_O"
      },
      "source": [
        "import pycpdf\r\n",
        "\r\n",
        "pdf = pycpdf.PDF(open('file.pdf', 'rb').read())\r\n",
        "if pdf.info and pdf.info.get('Title'):\r\n",
        "    print('Title:', pdf.info['Title'])\r\n",
        "#for pageno, page in enumerate(pdf.pages):\r\n",
        "    #print('Page', pageno + 1)\r\n",
        "    #print(page.text.translate(pycpdf.unicode_translations))"
      ],
      "execution_count": null,
      "outputs": []
    },
    {
      "cell_type": "markdown",
      "metadata": {
        "id": "aqulTI0FdsAU"
      },
      "source": [
        "##### Pdfrw: подходит для PDF"
      ]
    },
    {
      "cell_type": "markdown",
      "metadata": {
        "id": "ap5Mpa04SIfX"
      },
      "source": [
        "Данная библиотека имеет 3 встроенных инструмента:\r\n",
        "\r\n",
        "*\tPdfReader: извлечение всех метаданных\r\n",
        "* IndirectPdfDict: составление собственного списка метаданных для перезаписи метаданных\r\n",
        "* PdfDict: составление собственного списка метаданных для обновления метаданных"
      ]
    },
    {
      "cell_type": "markdown",
      "metadata": {
        "id": "nTNIi7zkSJfY"
      },
      "source": [
        "Было выведено 3 варианта извлечения и 4 варианта изменения метаданных, но без группирования"
      ]
    },
    {
      "cell_type": "markdown",
      "metadata": {
        "id": "10-tBlcEVohu"
      },
      "source": [
        "Вариант 1. Извлечение отдельных метаданных путем прямого обращения к тегам без перекодирования"
      ]
    },
    {
      "cell_type": "code",
      "metadata": {
        "id": "If60zxuPVuMF"
      },
      "source": [
        "from pdfrw import PdfReader, PdfWriter, PdfDict\r\n",
        "import unicodedata\r\n",
        "\r\n",
        "filename1 = \"C:/Users/stece/Downloads/mets_overview_rus.pdf\"\r\n",
        "filename2 = \"C:/Users/stece/Downloads/tsifrovye-sledy-naznachenie-i-proizvodstvo-ekspertiz.pdf\"\r\n",
        "filename3 = 'C:/Users/stece/Downloads/new.pdf'\r\n",
        "\r\n",
        "#def unicode_normalize(s):\r\n",
        "    #return unicodedata.normalize('NFKD', s).encode('ascii', 'ignore')\r\n",
        "\r\n",
        "pdf_reader = PdfReader(filename1)\r\n",
        "print(\"Title:\", pdf_reader.Info.Title)\r\n",
        "print(\"Creator:\", pdf_reader.Info.Creator)\r\n",
        "print(\"CreationDate:\", pdf_reader.Info.CreationDate)\r\n",
        "print(\"ModDate:\", pdf_reader.Info.ModDate)\r\n",
        "print(\"Producer:\", pdf_reader.Info.Producer)"
      ],
      "execution_count": null,
      "outputs": []
    },
    {
      "cell_type": "markdown",
      "metadata": {
        "id": "95ty6TYiX7mV"
      },
      "source": [
        "Вариант 2. Извлечение отдельных метаданных путем прямого обращения к тегам с перекодированием"
      ]
    },
    {
      "cell_type": "code",
      "metadata": {
        "id": "Rkv3vd9DX_Zw"
      },
      "source": [
        "from pdfrw import PdfReader, PdfWriter, PdfDict\r\n",
        "import unicodedata\r\n",
        "\r\n",
        "filename1 = \"C:/Users/stece/Downloads/mets_overview_rus.pdf\"\r\n",
        "filename2 = \"C:/Users/stece/Downloads/tsifrovye-sledy-naznachenie-i-proizvodstvo-ekspertiz.pdf\"\r\n",
        "filename3 = 'C:/Users/stece/Downloads/new.pdf'\r\n",
        "\r\n",
        "def unicode_normalize(s):\r\n",
        "    return unicodedata.normalize('NFKD', s).encode('ascii', 'ignore')\r\n",
        "\r\n",
        "trailer = PdfReader(filename1)\r\n",
        "\r\n",
        "# this statement is breaking pdfrw\r\n",
        "trailer.Info.Creator = unicode_normalize(trailer.Info.Creator.decode())\r\n",
        "print(trailer.Info)"
      ],
      "execution_count": null,
      "outputs": []
    },
    {
      "cell_type": "markdown",
      "metadata": {
        "id": "t4IB066XVept"
      },
      "source": [
        "Вариант 3. Извлечение всех метаданных без перекодирования"
      ]
    },
    {
      "cell_type": "code",
      "metadata": {
        "id": "V7LHZvMQVmyV"
      },
      "source": [
        "from pdfrw import PdfReader, PdfWriter, PdfDict\r\n",
        "import unicodedata\r\n",
        "\r\n",
        "filename1 = \"C:/Users/stece/Downloads/mets_overview_rus.pdf\"\r\n",
        "filename2 = \"C:/Users/stece/Downloads/tsifrovye-sledy-naznachenie-i-proizvodstvo-ekspertiz.pdf\"\r\n",
        "filename3 = 'C:/Users/stece/Downloads/new.pdf'\r\n",
        "\r\n",
        "#def unicode_normalize(s):\r\n",
        "    #return unicodedata.normalize('NFKD', s).encode('ascii', 'ignore')\r\n",
        "\r\n",
        "pdf_reader = PdfReader(filename1)\r\n",
        "print(pdf_reader.keys())\r\n",
        "print(pdf_reader.Info.items())\r\n",
        "for t in pdf_reader.Info.items():\r\n",
        "    print(t[0] + \":\", unicode_normalize(t[1]))"
      ],
      "execution_count": null,
      "outputs": []
    },
    {
      "cell_type": "markdown",
      "metadata": {
        "id": "-DvtrlujVkSm"
      },
      "source": [
        "Вариант 4. Изменение отдельных метаданных путем прямого обращения к тегам с перекодированием"
      ]
    },
    {
      "cell_type": "code",
      "metadata": {
        "id": "eoNnBgzJYFy8"
      },
      "source": [
        "from pdfrw import PdfReader, PdfWriter, PdfDict\r\n",
        "import unicodedata\r\n",
        "\r\n",
        "filename1 = \"C:/Users/stece/Downloads/mets_overview_rus.pdf\"\r\n",
        "filename2 = \"C:/Users/stece/Downloads/tsifrovye-sledy-naznachenie-i-proizvodstvo-ekspertiz.pdf\"\r\n",
        "filename3 = 'C:/Users/stece/Downloads/new.pdf'\r\n",
        "\r\n",
        "def unicode_normalize(s):\r\n",
        "    return unicodedata.normalize('NFKD', s).encode('ascii', 'ignore')\r\n",
        "\r\n",
        "trailer = PdfReader(filename1)\r\n",
        "\r\n",
        "# this statement is breaking pdfrw\r\n",
        "trailer.Info.Creator = unicode_normalize(trailer.Info.Creator.decode())\r\n",
        "trailer.Info.Title = \"who am i\"\r\n",
        "print(trailer.Info)\r\n",
        "\r\n",
        "# also have tried:\r\n",
        "#trailer.Info.Title = PdfString(unicode_normalize(trailer.Info.Title))\r\n",
        "\r\n",
        "PdfWriter(filename3, trailer=trailer).write()"
      ],
      "execution_count": null,
      "outputs": []
    },
    {
      "cell_type": "markdown",
      "metadata": {
        "id": "PwQhHlTYZB_7"
      },
      "source": [
        "Вариант 5. Изменение всех метаданных путем перезаписи всех метаданных, в том числе и неизмененных"
      ]
    },
    {
      "cell_type": "code",
      "metadata": {
        "id": "8FyZzJNRZnX1"
      },
      "source": [
        "from pdfrw import PdfReader, PdfWriter, PdfDict, IndirectPdfDict\r\n",
        "import unicodedata\r\n",
        "\r\n",
        "filename1 = \"C:/Users/stece/Downloads/mets_overview_rus.pdf\"\r\n",
        "filename2 = \"C:/Users/stece/Downloads/tsifrovye-sledy-naznachenie-i-proizvodstvo-ekspertiz.pdf\"\r\n",
        "filename3 = 'C:/Users/stece/Downloads/new.pdf'\r\n",
        "\r\n",
        "writer = PdfWriter()\r\n",
        "\r\n",
        "reader = PdfReader(filename1)\r\n",
        "writer.addpages(reader.pages)\r\n",
        "        \r\n",
        "writer.trailer.Info = IndirectPdfDict(\r\n",
        "    Title='Combined PDF Title',\r\n",
        "    Author='Michael Driscoll',\r\n",
        "    Subject='PDF Combinations',\r\n",
        "    Creator='The Concatenator'\r\n",
        ")\r\n",
        "        \r\n",
        "writer.write(filename3)"
      ],
      "execution_count": null,
      "outputs": []
    },
    {
      "cell_type": "markdown",
      "metadata": {
        "id": "Ci5xnLDnafNb"
      },
      "source": [
        "Вариант 6. Изменение метаданных путем обновления отдельных метаданных"
      ]
    },
    {
      "cell_type": "code",
      "metadata": {
        "id": "up07bYzsb-Gq"
      },
      "source": [
        "from pdfrw import PdfReader, PdfWriter, PdfDict\r\n",
        " \r\n",
        "filename1 = \"C:/Users/stece/Downloads/mets_overview_rus.pdf\"\r\n",
        "filename2 = \"C:/Users/stece/Downloads/tsifrovye-sledy-naznachenie-i-proizvodstvo-ekspertiz.pdf\"\r\n",
        "filename3 = 'C:/Users/stece/Downloads/new.pdf'\r\n",
        "\r\n",
        "trailer = PdfReader(filename1)\r\n",
        "metadata = PdfDict(Title='nahoy', Subject='ooooooooo')\r\n",
        "trailer.Info.update(metadata)\r\n",
        "PdfWriter().write(filename1, trailer)"
      ],
      "execution_count": null,
      "outputs": []
    },
    {
      "cell_type": "markdown",
      "metadata": {
        "id": "3ynU1WFqc3WB"
      },
      "source": [
        "Вариант 7. Изменение метаданных путем добавления новых метаданных"
      ]
    },
    {
      "cell_type": "code",
      "metadata": {
        "id": "iANo0zM4c3px"
      },
      "source": [
        "from pdfrw import PdfReader, PdfWriter   \r\n",
        " \r\n",
        "filename1 = \"C:/Users/stece/Downloads/mets_overview_rus.pdf\"\r\n",
        "filename2 = \"C:/Users/stece/Downloads/tsifrovye-sledy-naznachenie-i-proizvodstvo-ekspertiz.pdf\"\r\n",
        "filename3 = 'C:/Users/stece/Downloads/new.pdf'\r\n",
        "  \r\n",
        "trailer = PdfReader(filename1)    \r\n",
        "trailer.Info.WhoAmI = \"Tarun Lalwani\"    \r\n",
        "PdfWriter(filename1, trailer=trailer).write()"
      ],
      "execution_count": null,
      "outputs": []
    },
    {
      "cell_type": "markdown",
      "metadata": {
        "id": "yOseyGX66m4V"
      },
      "source": [
        "#### 5. Текстовые файлы"
      ]
    },
    {
      "cell_type": "markdown",
      "metadata": {
        "id": "BDYaIrNQ7M3s"
      },
      "source": [
        "##### Textpipe: подходит для текстовых файлов"
      ]
    },
    {
      "cell_type": "markdown",
      "metadata": {
        "id": "023rk0FWQ_KE"
      },
      "source": [
        "Данная библиотека не функционирует"
      ]
    },
    {
      "cell_type": "markdown",
      "metadata": {
        "id": "odeqsLL96uED"
      },
      "source": [
        "#### 6. Архивы"
      ]
    },
    {
      "cell_type": "markdown",
      "metadata": {
        "id": "HuNCXoHL7PCE"
      },
      "source": [
        "##### Zipfile: подходит для архивов (zip, rar, 7z)"
      ]
    },
    {
      "cell_type": "markdown",
      "metadata": {
        "id": "ezxqQPSMJtSs"
      },
      "source": [
        "Данная библиотека имеет встроенный инструмент:\r\n",
        "*\tinfolist: извлечение всех метаданных внутри файла"
      ]
    },
    {
      "cell_type": "markdown",
      "metadata": {
        "id": "0FPHzJegJv80"
      },
      "source": [
        "Был выведен только 1 вариант извлечения метаданных, но с группированием"
      ]
    },
    {
      "cell_type": "markdown",
      "metadata": {
        "id": "h82Hwr2sJ1SU"
      },
      "source": [
        "Вариант 1. Извлечение как всех, так и отдельных метаданных путем прямого обращения к тегам"
      ]
    },
    {
      "cell_type": "code",
      "metadata": {
        "id": "_D1dW7NHKOuP"
      },
      "source": [
        "import datetime\r\n",
        "from xml.etree import ElementTree as etree\r\n",
        "import zipfile\r\n",
        "\r\n",
        "filename = \"C:/Users/stece/Downloads/DataScienceTools-master.zip\"\r\n",
        "\r\n",
        "print(zipfile.is_zipfile(filename))\r\n",
        "if (zipfile.is_zipfile(filename)):\r\n",
        "    zfile = zipfile.ZipFile(filename)\r\n",
        "\r\n",
        "    for key in zfile.infolist():\r\n",
        "        print(\"ZipFileName:\", key.filename)\r\n",
        "        print(\"ZipOrigName:\", key.orig_filename)\r\n",
        "        print(\"ZipRequiredVersion:\", key.extract_version)\r\n",
        "        print(\"ZipBitFlag:\", key.flag_bits)\r\n",
        "        print(\"ZipCompression:\", key.compress_type)\r\n",
        "        print(\"ZipFileMode:\", key.reserved)\r\n",
        "        print(\"ZipModifyDate:\", datetime.datetime(*key.date_time))\r\n",
        "        print(\"ZipCreateSystem:\", key.create_system)\r\n",
        "        print(\"ZipCRC:\", key.CRC)\r\n",
        "        print(\"ZipCompressedSize:\", key.compress_size)\r\n",
        "        print(\"ZipComments:\", key.comment)\r\n",
        "        print(\"ZIP version:\", key.create_version)\r\n",
        "    \r\n",
        "    #print(zfile.namelist())\r\n",
        "    #print(zfile.infolist())"
      ],
      "execution_count": null,
      "outputs": []
    },
    {
      "cell_type": "markdown",
      "metadata": {
        "id": "IAbpeauW0COW"
      },
      "source": [
        "#### 7. Офисные документы"
      ]
    },
    {
      "cell_type": "markdown",
      "metadata": {
        "id": "jUwWUyH_0h4n"
      },
      "source": [
        "##### xml.etree.ElementTree: подходит для офисных документов (xml, xls, xlsx, csv, doc, docx, ppt, pptx)"
      ]
    },
    {
      "cell_type": "markdown",
      "metadata": {
        "id": "FhaCnIgY-eZS"
      },
      "source": [
        "Данная библиотека работает совместно с Zipfile и имеет два встроенных инструмента:\r\n",
        "*\tfromstring: парсит XML-файл для получения доступа к метаданным\r\n",
        "*\tgetchildren: получает доступ к элементам метаданных"
      ]
    },
    {
      "cell_type": "markdown",
      "metadata": {
        "id": "Q9gDd8nv_IpZ"
      },
      "source": [
        "Был выведен только 1 вариант извлечения метаданных, но с группированием"
      ]
    },
    {
      "cell_type": "markdown",
      "metadata": {
        "id": "ipBB6HRP_P7o"
      },
      "source": [
        "Вариант 1. Извлечение всех метаданных путем поиска по названию тега"
      ]
    },
    {
      "cell_type": "code",
      "metadata": {
        "id": "cY-AZkOK_QNg"
      },
      "source": [
        "from datetime import datetime as dt\r\n",
        "from xml.etree import ElementTree as etree\r\n",
        "import zipfile\r\n",
        "\r\n",
        "filename1 = \"C:/Users/stece/Downloads/Metadannye (2).docx\"\r\n",
        "filename2 = \"C:/Users/stece/Downloads/ABD_Project_Prez.pptx\"\r\n",
        "filename3 = \"C:/Users/stece/Downloads/er.xlsx\"\r\n",
        "filename4 = \"C:/Users/stece/Downloads/googleplaystore.csv\"\r\n",
        "filename5 = \"C:/Users/stece/Downloads/DataScienceTools-master.zip\"\r\n",
        "\r\n",
        "isCore = False\r\n",
        "isApp = False\r\n",
        "\r\n",
        "print(zipfile.is_zipfile(filename3))\r\n",
        "if (zipfile.is_zipfile(filename3)):\r\n",
        "    zfile = zipfile.ZipFile(filename3)\r\n",
        "    for i in zfile.namelist():\r\n",
        "        print(i)\r\n",
        "        if (i == 'docProps/core.xml'):\r\n",
        "            isCore = True\r\n",
        "        if (i == 'docProps/app.xml'):\r\n",
        "            isApp = True\r\n",
        "    print('isCore =', isCore)\r\n",
        "    print('isApp =', isApp)\r\n",
        "    #print(zfile.namelist())\r\n",
        "    #print(zfile.infolist())\r\n",
        "    if (isCore):\r\n",
        "        core_xml = etree.fromstring(zfile  .read('docProps/core.xml'))\r\n",
        "        core_mapping = {\r\n",
        "        'title': 'Title',\r\n",
        "        'subject': 'Subject',\r\n",
        "        'creator': 'Author(s)',\r\n",
        "        'keywords': 'Keywords',\r\n",
        "        'description': 'Description',\r\n",
        "        'lastModifiedBy': 'Last Modified By',\r\n",
        "        'modified': 'Modified Date',\r\n",
        "        'created': 'Created Date',\r\n",
        "        'category': 'Category',\r\n",
        "        'contentStatus': 'Status',\r\n",
        "        'revision': 'Revision'\r\n",
        "        }\r\n",
        "\r\n",
        "        for element in core_xml.getchildren():\r\n",
        "            for key, title in core_mapping.items():\r\n",
        "                if key in element.tag:\r\n",
        "                    if 'date' in title.lower():\r\n",
        "                        text = dt.strptime(element.text, \"%Y-%m-%dT%H:%M:%SZ\")\r\n",
        "                    else:\r\n",
        "                        text = element.text\r\n",
        "                    print(\"{}: {}\".format(title, text))\r\n",
        "    if (isApp):\r\n",
        "        app_xml = etree.fromstring(zfile.read('docProps/app.xml'))\r\n",
        "        app_mapping = {\r\n",
        "        'TotalTime': 'Edit Time (minutes)',\r\n",
        "        'Pages': 'Page Count',\r\n",
        "        'Words': 'Word Count',\r\n",
        "        'Characters': 'Character Count',\r\n",
        "        'Lines': 'Line Count',\r\n",
        "        'Paragraphs': 'Paragraph Count',\r\n",
        "        'Company': 'Company',\r\n",
        "        'HyperlinkBase': 'Hyperlink Base',\r\n",
        "        'Slides': 'Slide count',\r\n",
        "        'Notes': 'Note Count',\r\n",
        "        'HiddenSlides': 'Hidden Slide Count',\r\n",
        "        }\r\n",
        "        for element in app_xml.getchildren():\r\n",
        "            for key, title in app_mapping.items():\r\n",
        "                if key in element.tag:\r\n",
        "                    if 'date' in title.lower():\r\n",
        "                        text = dt.strptime(element.text, \"%Y-%m-%dT%H:%M:%SZ\")\r\n",
        "                    else:\r\n",
        "                        text = element.text\r\n",
        "                    print(\"{}: {}\".format(title, text))\r\n",
        "\r\n",
        "    zfile.close()"
      ],
      "execution_count": null,
      "outputs": []
    },
    {
      "cell_type": "markdown",
      "metadata": {
        "id": "EMxPafPdBbKA"
      },
      "source": [
        "##### Zipfile: подходит для офисных документов (xls, xlsx, csv, doc, docx, ppt, pptx)"
      ]
    },
    {
      "cell_type": "markdown",
      "metadata": {
        "id": "BfSImOw5BjEP"
      },
      "source": [
        "Данная библиотека имеет встроенный инструмент:\r\n",
        "*\tinfolist: извлечение всех метаданных внутри файла"
      ]
    },
    {
      "cell_type": "markdown",
      "metadata": {
        "id": "7EC0_7ehJEul"
      },
      "source": [
        "Был выведен только 1 вариант извлечения метаданных, но с группированием"
      ]
    },
    {
      "cell_type": "markdown",
      "metadata": {
        "id": "KsUs-OzjJE-8"
      },
      "source": [
        "Вариант 1. Извлечение как всех, так и отдельных метаданных путем прямого обращения к тегам"
      ]
    },
    {
      "cell_type": "code",
      "metadata": {
        "id": "u6QSSNLUJFVV"
      },
      "source": [
        "import datetime\r\n",
        "from xml.etree import ElementTree as etree\r\n",
        "import zipfile\r\n",
        "\r\n",
        "filename1 = \"C:/Users/stece/Downloads/Metadannye (2).docx\"\r\n",
        "filename2 = \"C:/Users/stece/Downloads/ABD_Project_Prez.pptx\"\r\n",
        "filename3 = \"C:/Users/stece/Downloads/er.xlsx\"\r\n",
        "filename4 = \"C:/Users/stece/Downloads/googleplaystore.csv\"\r\n",
        "filename5 = \"C:/Users/stece/Downloads/DataScienceTools-master.zip\"\r\n",
        "\r\n",
        "isCore = False\r\n",
        "isApp = False\r\n",
        "\r\n",
        "print(zipfile.is_zipfile(filename3))\r\n",
        "if (zipfile.is_zipfile(filename3)):\r\n",
        "    zfile = zipfile.ZipFile(filename3)\r\n",
        "\r\n",
        "    for key in zfile.infolist():\r\n",
        "        print(\"ZipFileName:\", key.filename)\r\n",
        "        print(\"ZipOrigName:\", key.orig_filename)\r\n",
        "        print(\"ZipRequiredVersion:\", key.extract_version)\r\n",
        "        print(\"ZipBitFlag:\", key.flag_bits)\r\n",
        "        print(\"ZipCompression:\", key.compress_type)\r\n",
        "        print(\"ZipFileMode:\", key.reserved)\r\n",
        "        print(\"ZipModifyDate:\", datetime.datetime(*key.date_time))\r\n",
        "        print(\"ZipCreateSystem:\", key.create_system)\r\n",
        "        print(\"ZipCRC:\", key.CRC)\r\n",
        "        print(\"ZipCompressedSize:\", key.compress_size)\r\n",
        "        print(\"ZipComments:\", key.comment)\r\n",
        "        print(\"ZIP version:\", key.create_version)\r\n",
        "    \r\n",
        "    #print(zfile.namelist())\r\n",
        "    #print(zfile.infolist())"
      ],
      "execution_count": null,
      "outputs": []
    },
    {
      "cell_type": "markdown",
      "metadata": {
        "id": "6XdeB6mx1Mhv"
      },
      "source": [
        "##### Lxml: подходит для офисных документов"
      ]
    },
    {
      "cell_type": "markdown",
      "metadata": {
        "id": "3b-6QAtrtazy"
      },
      "source": [
        "Данная библиотека значительно расширяет API ElementTree"
      ]
    },
    {
      "cell_type": "markdown",
      "metadata": {
        "id": "JvcTiGWv1Nt-"
      },
      "source": [
        "##### Docx: подходит для офисных документов (doc, docx)"
      ]
    },
    {
      "cell_type": "markdown",
      "metadata": {
        "id": "_vv7hmUczzFY"
      },
      "source": [
        "Данная библиотека имеет встроенный инструмент:\r\n",
        "\r\n",
        "*\tcore_properties: извлечение основных (пользовательских) метаданных"
      ]
    },
    {
      "cell_type": "markdown",
      "metadata": {
        "id": "aAqmOVtg06r2"
      },
      "source": [
        "Было выведено 2 варианта извлечения и 1 вариант изменения метаданных, но без группирования"
      ]
    },
    {
      "cell_type": "markdown",
      "metadata": {
        "id": "BGFQ1f2x07af"
      },
      "source": [
        "Вариант 1. Извлечение отдельных метаданных путем прямого обращения к тегам"
      ]
    },
    {
      "cell_type": "code",
      "metadata": {
        "id": "RW4FBjvJ1BjY"
      },
      "source": [
        "import docx\r\n",
        "\r\n",
        "filename1 = \"C:/Users/stece/Downloads/Metadannye (2).docx\"\r\n",
        "filename2 = 'C:/Users/stece/Downloads/new.docx'\r\n",
        "\r\n",
        "doc = docx.Document(filename1)\r\n",
        "properties = doc.core_properties\r\n",
        "\r\n",
        "print('Автор документа:', properties.author)\r\n",
        "print('Автор последней правки:', properties.last_modified_by)\r\n",
        "print('Дата создания документа:', properties.created)\r\n",
        "print('Дата последней правки:', properties.modified)\r\n",
        "print('Дата последней печати:', properties.last_printed)\r\n",
        "print('Количество сохранений:', properties.revision)"
      ],
      "execution_count": null,
      "outputs": []
    },
    {
      "cell_type": "markdown",
      "metadata": {
        "id": "rRF1MIL73ss9"
      },
      "source": [
        "Вариант 2. Извлечение всех метаданных путем прямого обращения к тегам по названию"
      ]
    },
    {
      "cell_type": "code",
      "metadata": {
        "id": "bhVUAyjR4MVs"
      },
      "source": [
        "import docx\r\n",
        "\r\n",
        "filename1 = \"C:/Users/stece/Downloads/Metadannye (2).docx\"\r\n",
        "filename2 = 'C:/Users/stece/Downloads/new.docx'\r\n",
        "\r\n",
        "def getMetaData(doc):\r\n",
        "    metadata = {}\r\n",
        "    prop = doc.core_properties\r\n",
        "    metadata[\"author\"] = prop.author\r\n",
        "    metadata[\"category\"] = prop.category\r\n",
        "    metadata[\"comments\"] = prop.comments\r\n",
        "    metadata[\"content_status\"] = prop.content_status\r\n",
        "    metadata[\"created\"] = prop.created\r\n",
        "    metadata[\"identifier\"] = prop.identifier\r\n",
        "    metadata[\"keywords\"] = prop.keywords\r\n",
        "    metadata[\"language\"] = prop.language\r\n",
        "    metadata[\"last modified\"] = prop.last_modified_by\r\n",
        "    metadata[\"last printed\"] = prop.last_printed\r\n",
        "    metadata[\"modified\"] = prop.modified\r\n",
        "    metadata[\"revision\"] = prop.revision\r\n",
        "    metadata[\"subject\"] = prop.subject\r\n",
        "    metadata[\"title\"] = prop.title\r\n",
        "    metadata[\"version\"] = prop.version\r\n",
        "    return metadata\r\n",
        "\r\n",
        "doc = docx.Document(filename1)\r\n",
        "metadata_dict = getMetaData(doc)\r\n",
        "print(metadata_dict.keys())\r\n",
        "print(metadata_dict.values())\r\n",
        "print(metadata_dict.items())\r\n",
        "\r\n",
        "for t in metadata_dict.items():\r\n",
        "    print(t[0] + \":\", t[1])"
      ],
      "execution_count": null,
      "outputs": []
    },
    {
      "cell_type": "markdown",
      "metadata": {
        "id": "e33V83_H4S1N"
      },
      "source": [
        "Вариант 3. Изменение отдельных метаданных путем прямого обращения к тегам"
      ]
    },
    {
      "cell_type": "code",
      "metadata": {
        "id": "-3NZWWPR5lkM"
      },
      "source": [
        "import docx\r\n",
        "\r\n",
        "filename1 = \"C:/Users/stece/Downloads/Metadannye (2).docx\"\r\n",
        "filename2 = 'C:/Users/stece/Downloads/new.docx'\r\n",
        "\r\n",
        "doc = docx.Document(filename1)\r\n",
        "properties = doc.core_properties\r\n",
        "\r\n",
        "properties.category = 'Brian'\r\n",
        "doc.save(filename1)"
      ],
      "execution_count": null,
      "outputs": []
    },
    {
      "cell_type": "markdown",
      "metadata": {
        "id": "Qe7UMBpw1P8t"
      },
      "source": [
        "##### Docx2python: подходит для офисных документов (doc, docx)"
      ]
    },
    {
      "cell_type": "markdown",
      "metadata": {
        "id": "DV95oen886rz"
      },
      "source": [
        "Данная библиотека имеет встроенный инструмент:\r\n",
        "\r\n",
        "*\tproperties: извлечение основных (пользовательских) метаданных"
      ]
    },
    {
      "cell_type": "markdown",
      "metadata": {
        "id": "VSkBTtv49Cjj"
      },
      "source": [
        "Было выведено только 2 варианта извлечения метаданных, но без группирования"
      ]
    },
    {
      "cell_type": "markdown",
      "metadata": {
        "id": "JT-F8-0IAHGB"
      },
      "source": [
        "Вариант 1. Извлечение отдельных метаданных путем прямого обращения к тегам по названию"
      ]
    },
    {
      "cell_type": "code",
      "metadata": {
        "id": "xZmXJk2SAOq5"
      },
      "source": [
        "from docx2python import docx2python\r\n",
        "\r\n",
        "filename1 = \"C:/Users/stece/Downloads/Metadannye (2).docx\"\r\n",
        "filename2 = 'C:/Users/stece/Downloads/new.docx'\r\n",
        "\r\n",
        "doc = docx2python(filename1)\r\n",
        "prop = doc.properties\r\n",
        "\r\n",
        "print(prop)\r\n",
        "prop['title'] = \"whoami\"\r\n",
        "print(prop['title'])\r\n",
        "print(prop['subject'])\r\n",
        "print(prop['creator'])\r\n",
        "print(prop['keywords'])\r\n",
        "print(prop['description'])\r\n",
        "print(prop['lastModifiedBy'])\r\n",
        "print(prop['revision'])\r\n",
        "print(prop['created'])\r\n",
        "print(prop['modified'])\r\n",
        "print(prop['category'])"
      ],
      "execution_count": null,
      "outputs": []
    },
    {
      "cell_type": "markdown",
      "metadata": {
        "id": "gvqZ7uIo9C5K"
      },
      "source": [
        "Вариант 2. Извлечение всех метаданных"
      ]
    },
    {
      "cell_type": "code",
      "metadata": {
        "id": "5fU3IBsf9DOS"
      },
      "source": [
        "from docx2python import docx2python\r\n",
        "\r\n",
        "filename1 = \"C:/Users/stece/Downloads/Metadannye (2).docx\"\r\n",
        "filename2 = 'C:/Users/stece/Downloads/new.docx'\r\n",
        "\r\n",
        "doc = docx2python(filename1)\r\n",
        "prop = doc.properties\r\n",
        "\r\n",
        "print(prop)\r\n",
        "print(prop['title'])\r\n",
        "print(prop.items())\r\n",
        "print(prop.keys())\r\n",
        "print(prop.values())\r\n",
        "\r\n",
        "for t in prop.items():\r\n",
        "    print(t[0] + \":\", t[1])"
      ],
      "execution_count": null,
      "outputs": []
    },
    {
      "cell_type": "markdown",
      "metadata": {
        "id": "T2eBR-kf1Rw9"
      },
      "source": [
        "##### Pptx: подходит для офисных документов (ppt, pptx)"
      ]
    },
    {
      "cell_type": "markdown",
      "metadata": {
        "id": "mMCF4aNdFcoX"
      },
      "source": [
        "Данная библиотека имеет встроенный инструмент:\r\n",
        "\r\n",
        "*\tcore_properties: извлечение основных (пользовательских) метаданных"
      ]
    },
    {
      "cell_type": "markdown",
      "metadata": {
        "id": "QmaYLMRHFd2W"
      },
      "source": [
        "Было выведено 2 варианта извлечения и 1 вариант изменения метаданных, но без группирования"
      ]
    },
    {
      "cell_type": "markdown",
      "metadata": {
        "id": "vivHmH2aGFs3"
      },
      "source": [
        "Вариант 1. Извлечение отдельных метаданных путем прямого обращения к тегам"
      ]
    },
    {
      "cell_type": "code",
      "metadata": {
        "id": "poONpoFAGI02"
      },
      "source": [
        "import pptx\r\n",
        "\r\n",
        "filename = \"C:/Users/stece/Downloads/ABD_Project_Prez.pptx\"\r\n",
        "\r\n",
        "ppt = pptx.Presentation(filename)\r\n",
        "properties = ppt.core_properties\r\n",
        "\r\n",
        "print('Автор документа:', properties.author)\r\n",
        "print('Автор последней правки:', properties.last_modified_by)\r\n",
        "print('Дата создания документа:', properties.created)\r\n",
        "print('Дата последней правки:', properties.modified)\r\n",
        "print('Дата последней печати:', properties.last_printed)\r\n",
        "print('Количество сохранений:', properties.revision)"
      ],
      "execution_count": null,
      "outputs": []
    },
    {
      "cell_type": "markdown",
      "metadata": {
        "id": "wUnDlo9XG_sO"
      },
      "source": [
        "Вариант 2. Извлечение всех метаданных путем прямого обращения к тегам по названию"
      ]
    },
    {
      "cell_type": "code",
      "metadata": {
        "id": "EtDeH74WHBpa"
      },
      "source": [
        "import pptx\r\n",
        "\r\n",
        "filename = \"C:/Users/stece/Downloads/ABD_Project_Prez.pptx\"\r\n",
        "\r\n",
        "def getMetaData(ppt):\r\n",
        "    metadata = {}\r\n",
        "    prop = ppt.core_properties\r\n",
        "    metadata[\"author\"] = prop.author\r\n",
        "    metadata[\"category\"] = prop.category\r\n",
        "    metadata[\"comments\"] = prop.comments\r\n",
        "    metadata[\"content_status\"] = prop.content_status\r\n",
        "    metadata[\"created\"] = prop.created\r\n",
        "    metadata[\"identifier\"] = prop.identifier\r\n",
        "    metadata[\"keywords\"] = prop.keywords\r\n",
        "    metadata[\"language\"] = prop.language\r\n",
        "    metadata[\"last modified\"] = prop.last_modified_by\r\n",
        "    metadata[\"last printed\"] = prop.last_printed\r\n",
        "    metadata[\"modified\"] = prop.modified\r\n",
        "    metadata[\"revision\"] = prop.revision\r\n",
        "    metadata[\"subject\"] = prop.subject\r\n",
        "    metadata[\"title\"] = prop.title\r\n",
        "    metadata[\"version\"] = prop.version\r\n",
        "    return metadata\r\n",
        "\r\n",
        "ppt = pptx.Presentation(filename)\r\n",
        "metadata_dict = getMetaData(ppt)\r\n",
        "print(metadata_dict.keys())\r\n",
        "print(metadata_dict.values())\r\n",
        "print(metadata_dict.items())\r\n",
        "\r\n",
        "for t in metadata_dict.items():\r\n",
        "    print(t[0] + \":\", t[1])"
      ],
      "execution_count": null,
      "outputs": []
    },
    {
      "cell_type": "markdown",
      "metadata": {
        "id": "LggU0D6PHWb2"
      },
      "source": [
        "Вариант 3. Изменение отдельных метаданных путем прямого обращения к тегам"
      ]
    },
    {
      "cell_type": "code",
      "metadata": {
        "id": "obiVbZN3HXHd"
      },
      "source": [
        "import pptx\r\n",
        "\r\n",
        "filename = \"C:/Users/stece/Downloads/ABD_Project_Prez.pptx\"\r\n",
        "\r\n",
        "ppt = pptx.Presentation(filename)\r\n",
        "properties = ppt.core_properties\r\n",
        "\r\n",
        "properties.category = 'Brian'\r\n",
        "ppt.save(filename)"
      ],
      "execution_count": null,
      "outputs": []
    },
    {
      "cell_type": "markdown",
      "metadata": {
        "id": "4gFBZiC71TXZ"
      },
      "source": [
        "##### Pyexcel: подходит для офисных документов (xls, xlsx, csv)"
      ]
    },
    {
      "cell_type": "markdown",
      "metadata": {
        "id": "F4F8Ug8rNdjC"
      },
      "source": [
        "Данная библиотека работает с таблицами Excel"
      ]
    },
    {
      "cell_type": "markdown",
      "metadata": {
        "id": "oqaGHU_W1VNG"
      },
      "source": [
        "##### Openpyxl: подходит для офисных документов (xls, xlsx, csv)"
      ]
    },
    {
      "cell_type": "markdown",
      "metadata": {
        "id": "IAv2VtZXS-x0"
      },
      "source": [
        "Данная библиотека имеет встроенный инструмент:\r\n",
        "\r\n",
        "*\tproperties: извлечение основных (пользовательских) метаданных"
      ]
    },
    {
      "cell_type": "markdown",
      "metadata": {
        "id": "FbEeshQ8TaXH"
      },
      "source": [
        "Было выведено 2 варианта извлечения и 1 вариант изменения метаданных, но без группирования"
      ]
    },
    {
      "cell_type": "markdown",
      "metadata": {
        "id": "XgsiWmugThSX"
      },
      "source": [
        "Вариант 1. Извлечение отдельных метаданных путем прямого обращения к тегам"
      ]
    },
    {
      "cell_type": "code",
      "metadata": {
        "id": "0aHyBY2FTh6p"
      },
      "source": [
        "from openpyxl import load_workbook\r\n",
        "\r\n",
        "filename1 = \"C:/Users/stece/Downloads/er.xlsx\"\r\n",
        "filename2 = \"C:/Users/stece/Downloads/googleplaystore.csv\"\r\n",
        "\r\n",
        "wb = load_workbook(filename1)\r\n",
        "prop = wb.properties\r\n",
        "\r\n",
        "print('Автор документа:', prop.creator)\r\n",
        "print('Автор последней правки:', prop.last_modified_by)\r\n",
        "print('Дата создания документа:', prop.created)\r\n",
        "print('Дата последней правки:', prop.modified)\r\n",
        "print('Дата последней печати:', prop.lastPrinted)\r\n",
        "print('Количество сохранений:', prop.revision)"
      ],
      "execution_count": null,
      "outputs": []
    },
    {
      "cell_type": "markdown",
      "metadata": {
        "id": "-I5tr5UcU1hc"
      },
      "source": [
        "Вариант 2. Извлечение всех метаданных путем прямого обращения к тегам по названию"
      ]
    },
    {
      "cell_type": "code",
      "metadata": {
        "id": "Bfi0CgMNWpPt"
      },
      "source": [
        "from openpyxl import load_workbook\r\n",
        "\r\n",
        "filename1 = \"C:/Users/stece/Downloads/er.xlsx\"\r\n",
        "filename2 = \"C:/Users/stece/Downloads/googleplaystore.csv\"\r\n",
        "\r\n",
        "def getMetaData(wb):\r\n",
        "    metadata = {}\r\n",
        "    prop = wb.properties\r\n",
        "    metadata[\"creator\"] = prop.creator\r\n",
        "    metadata[\"title\"] = prop.title\r\n",
        "    metadata[\"description\"] = prop.description\r\n",
        "    metadata[\"subject\"] = prop.subject\r\n",
        "    metadata[\"identifier\"] = prop.identifier\r\n",
        "    metadata[\"language\"] = prop.language\r\n",
        "    metadata[\"created\"] = prop.created\r\n",
        "    metadata[\"modified\"] = prop.modified\r\n",
        "    metadata[\"lastModifiedBy=\"] = prop.lastModifiedBy\r\n",
        "    metadata[\"category\"] = prop.category\r\n",
        "    metadata[\"contentStatus\"] = prop.contentStatus\r\n",
        "    metadata[\"version\"] = prop.version\r\n",
        "    metadata[\"revision\"] = prop.revision\r\n",
        "    metadata[\"keywords\"] = prop.keywords\r\n",
        "    metadata[\"lastPrinted\"] = prop.lastPrinted\r\n",
        "    return metadata\r\n",
        "\r\n",
        "wb = load_workbook(filename1)\r\n",
        "metadata_dict = getMetaData(wb)\r\n",
        "print(metadata_dict.keys())\r\n",
        "print(metadata_dict.values())\r\n",
        "print(metadata_dict.items())\r\n",
        "\r\n",
        "for t in metadata_dict.items():\r\n",
        "    print(t[0] + \":\", t[1])"
      ],
      "execution_count": null,
      "outputs": []
    },
    {
      "cell_type": "markdown",
      "metadata": {
        "id": "BfSyz22bWtcV"
      },
      "source": [
        "Вариант 3. Изменение отдельных метаданных путем прямого обращения к тегам"
      ]
    },
    {
      "cell_type": "code",
      "metadata": {
        "id": "OLdBqCKlWuKU"
      },
      "source": [
        "from openpyxl import load_workbook\r\n",
        "\r\n",
        "filename1 = \"C:/Users/stece/Downloads/er.xlsx\"\r\n",
        "filename2 = \"C:/Users/stece/Downloads/googleplaystore.csv\"\r\n",
        "\r\n",
        "wb = load_workbook(filename1)\r\n",
        "prop = wb.properties\r\n",
        "\r\n",
        "prop.creator = \"Андрюха\"\r\n",
        "wb.save(filename1)"
      ],
      "execution_count": null,
      "outputs": []
    },
    {
      "cell_type": "markdown",
      "metadata": {
        "id": "aWQEENsV1XMd"
      },
      "source": [
        "##### XlsxWriter: подходит для офисных документов (xls, xlsx, csv)"
      ]
    },
    {
      "cell_type": "markdown",
      "metadata": {
        "id": "jSrH16hVdvgA"
      },
      "source": [
        "Данная библиотека создает Excel-файлы и может в них записывать собственные метаданные"
      ]
    },
    {
      "cell_type": "markdown",
      "metadata": {
        "id": "1TcqIxYPgSpd"
      },
      "source": [
        "Имеется только 1 вариант изменения метаданных"
      ]
    },
    {
      "cell_type": "code",
      "metadata": {
        "id": "eJ4Sqkp0ggPl"
      },
      "source": [
        "import xlsxwriter\r\n",
        "\r\n",
        "filename1 = \"C:/Users/stece/Downloads/er.xlsx\"\r\n",
        "filename2 = \"C:/Users/stece/Downloads/googleplaystore.csv\"\r\n",
        "\r\n",
        "workbook = xlsxwriter.Workbook(filename1)\r\n",
        "worksheet = workbook.add_worksheet()\r\n",
        "\r\n",
        "workbook.set_properties({\r\n",
        "    'title':    'This is an example spreadsheet',\r\n",
        "    'subject':  'With document properties',\r\n",
        "    'author':   'John McNamara',\r\n",
        "    'manager':  'Dr. Heinz Doofenshmirtz',\r\n",
        "    'company':  'of Wolves',\r\n",
        "    'category': 'Example spreadsheets',\r\n",
        "    'keywords': 'Sample, Example, Properties',\r\n",
        "    'comments': 'Created with Python and XlsxWriter',\r\n",
        "    'status':   'Quo',\r\n",
        "})\r\n",
        "\r\n",
        "#worksheet.set_column('A:A', 70)\r\n",
        "#worksheet.write('A1', \"Select 'Workbook Properties' to see properties.\")\r\n",
        "\r\n",
        "workbook.close()"
      ],
      "execution_count": null,
      "outputs": []
    },
    {
      "cell_type": "markdown",
      "metadata": {
        "id": "dDJ0mbpM1Y1u"
      },
      "source": [
        "##### Pymetadata: подходит для офисных документов (pdf, xls, xlsx, csv, doc, docx, ppt, pptx)"
      ]
    },
    {
      "cell_type": "markdown",
      "metadata": {
        "id": "Lw53jT4Ki1Ve"
      },
      "source": [
        "Данная библиотека работает совместно с программой exiftools"
      ]
    },
    {
      "cell_type": "markdown",
      "metadata": {
        "id": "G3l-Xgvm1ac-"
      },
      "source": [
        "##### File-metadata: подходит для офисных документов"
      ]
    },
    {
      "cell_type": "markdown",
      "metadata": {
        "id": "ohazz50-kZc2"
      },
      "source": [
        "Данная библиотека работает совместно с программой exiftools"
      ]
    },
    {
      "cell_type": "markdown",
      "metadata": {
        "id": "LTNs-MCS1cgN"
      },
      "source": [
        "##### Olemeta: подходит для офисных документов"
      ]
    },
    {
      "cell_type": "markdown",
      "metadata": {
        "id": "aSA2P_PJ0l2k"
      },
      "source": [
        "Данная библиотека считается самой свежой и к тому же 2020 года, но выдает ошибки при компиляции"
      ]
    },
    {
      "cell_type": "markdown",
      "metadata": {
        "id": "RCZki70f1e6N"
      },
      "source": [
        "##### OleFileIO_PL: подходит для офисных документов"
      ]
    },
    {
      "cell_type": "markdown",
      "metadata": {
        "id": "NusMe51E7QTK"
      },
      "source": [
        "Данная библиотека считается устаревшей, не функционирует"
      ]
    },
    {
      "cell_type": "markdown",
      "metadata": {
        "id": "rek6aZ3L0PY3"
      },
      "source": [
        "#### 8. Исполнительные файлы"
      ]
    },
    {
      "cell_type": "markdown",
      "metadata": {
        "id": "Bb-fPDzj0a1X"
      },
      "source": [
        "##### Pefile: подходит для исполнительных файлов (exe, dll)"
      ]
    },
    {
      "cell_type": "markdown",
      "metadata": {
        "id": "dZyOHqvnYaBh"
      },
      "source": [
        "Данная библиотека считается относительно свежей, не функционирует"
      ]
    }
  ]
}